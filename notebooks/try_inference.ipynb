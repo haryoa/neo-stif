{
 "cells": [
  {
   "cell_type": "code",
   "execution_count": null,
   "metadata": {},
   "outputs": [],
   "source": []
  },
  {
   "cell_type": "code",
   "execution_count": 1,
   "metadata": {},
   "outputs": [
    {
     "name": "stdout",
     "output_type": "stream",
     "text": [
      "/home/haryoaw/documents/courses/nlp802/project/texteditalay\n"
     ]
    }
   ],
   "source": [
    "%cd ..\n",
    "%load_ext autoreload\n",
    "%autoreload 2"
   ]
  },
  {
   "cell_type": "code",
   "execution_count": 2,
   "metadata": {},
   "outputs": [
    {
     "name": "stderr",
     "output_type": "stream",
     "text": [
      "/home/haryoaw/mambaforge/envs/sensei/lib/python3.11/site-packages/tqdm/auto.py:21: TqdmWarning: IProgress not found. Please update jupyter and ipywidgets. See https://ipywidgets.readthedocs.io/en/stable/user_install.html\n",
      "  from .autonotebook import tqdm as notebook_tqdm\n"
     ]
    }
   ],
   "source": [
    "import fire\n",
    "from transformers import AutoTokenizer, BertForTokenClassification, BertConfig, BertForMaskedLM\n",
    "from neo_stif.components.utils import create_label_map\n",
    "import pandas as pd\n",
    "from neo_stif.components.train_data_preparation import prepare_data_tagging_and_pointer\n",
    "import datasets\n",
    "from neo_stif.lit import LitTaggerOrInsertion\n",
    "from torch.utils.data import DataLoader\n",
    "from neo_stif.components.collator import FelixCollator, FelixInsertionCollator\n",
    "from lightning import Trainer\n",
    "from lightning.pytorch.callbacks import RichProgressBar, ModelCheckpoint, EarlyStopping\n",
    "from neo_stif.components.utils import compute_class_weights\n",
    "from datasets import load_from_disk\n",
    "\n",
    "\n",
    "MAX_MASK = 30\n",
    "USE_POINTING = True\n",
    "\n",
    "\n",
    "model_dict = {\"koto\": \"indolem/indobert-base-uncased\"}\n",
    "\n",
    "\n",
    "LR_TAGGER = 5e-5 # due to the pre-trained nature\n",
    "LR_POINTER = 1e-5 # no pre-trained\n",
    "LR_INSERTION = 2e-5 # due to the pre-trained nature\n",
    "VAL_CHECK_INTERVAL = 20"
   ]
  },
  {
   "cell_type": "code",
   "execution_count": 3,
   "metadata": {},
   "outputs": [],
   "source": [
    "model_path_or_name = model_dict[\"koto\"]"
   ]
  },
  {
   "cell_type": "code",
   "execution_count": 4,
   "metadata": {},
   "outputs": [
    {
     "name": "stderr",
     "output_type": "stream",
     "text": [
      "Map: 100%|██████████| 363/363 [00:00<00:00, 5050.04 examples/s]\n",
      "Map: 100%|██████████| 363/363 [00:00<00:00, 1621.07 examples/s]\n"
     ]
    }
   ],
   "source": [
    "tokenizer = AutoTokenizer.from_pretrained(\"indolem/indobert-base-uncased\")\n",
    "label_dict = create_label_map(MAX_MASK, USE_POINTING)\n",
    "\n",
    "# Callback for trainer\n",
    "\n",
    "df_train = pd.read_csv(\"data/stif_indo/test_with_pointing.csv\")\n",
    "data_train = datasets.Dataset.from_pandas(df_train)\n",
    "data_train, label_dict = prepare_data_tagging_and_pointer(\n",
    "    data_train, tokenizer, label_dict\n",
    ")\n",
    "model_path_or_name = model_dict[\"koto\"]"
   ]
  },
  {
   "cell_type": "code",
   "execution_count": 5,
   "metadata": {},
   "outputs": [
    {
     "name": "stderr",
     "output_type": "stream",
     "text": [
      "Some weights of BertForTokenClassification were not initialized from the model checkpoint at indolem/indobert-base-uncased and are newly initialized: ['classifier.bias', 'classifier.weight']\n",
      "You should probably TRAIN this model on a down-stream task to be able to use it for predictions and inference.\n"
     ]
    }
   ],
   "source": [
    "pre_trained_bert = BertForTokenClassification.from_pretrained(\n",
    "        model_path_or_name, num_labels=len(label_dict)\n",
    "    )\n",
    "\n"
   ]
  },
  {
   "cell_type": "code",
   "execution_count": 11,
   "metadata": {},
   "outputs": [],
   "source": [
    "class_weights = (\n",
    "        compute_class_weights(df_train.label.apply(eval), num_classes=len(label_dict))\n",
    "        if True\n",
    "        else None\n",
    "    )"
   ]
  },
  {
   "cell_type": "code",
   "execution_count": 12,
   "metadata": {},
   "outputs": [],
   "source": [
    "pointer_network_config = BertConfig(\n",
    "    vocab_size=len(label_dict) + 1,\n",
    "    num_hidden_layers=2,\n",
    "    hidden_size=256,\n",
    "    num_attention_heads=1,\n",
    "    pad_token_id=len(label_dict),\n",
    ")  # + 1 as the pad token\n",
    "\n",
    "lit_tagger = LitTaggerOrInsertion.load_from_checkpoint(\n",
    "    \"outputs/stif-i-f/test.ckpt\",\n",
    "    model=pre_trained_bert,\n",
    "    lr=2e-5,\n",
    "    num_classes=len(label_dict),\n",
    "    class_weight=None,\n",
    "    tokenizer=tokenizer,\n",
    "    label_dict=label_dict,\n",
    "    use_pointer=USE_POINTING,\n",
    "    pointer_config=pointer_network_config,\n",
    ")"
   ]
  },
  {
   "cell_type": "code",
   "execution_count": 82,
   "metadata": {},
   "outputs": [],
   "source": [
    "lit_tagger = lit_tagger.cpu()\n",
    "tokenizer_vocab_reverse = {v: k for k, v in tokenizer.vocab.items()}\n",
    "label_dict\n",
    "\n",
    "# reverese the label dict\n",
    "label_dict_reverse = {v: k for k, v in label_dict.items()}"
   ]
  },
  {
   "cell_type": "code",
   "execution_count": 83,
   "metadata": {},
   "outputs": [
    {
     "data": {
      "text/plain": [
       "LitTaggerOrInsertion(\n",
       "  (model): BertForTokenClassification(\n",
       "    (bert): BertModel(\n",
       "      (embeddings): BertEmbeddings(\n",
       "        (word_embeddings): Embedding(31923, 768, padding_idx=0)\n",
       "        (position_embeddings): Embedding(512, 768)\n",
       "        (token_type_embeddings): Embedding(2, 768)\n",
       "        (LayerNorm): LayerNorm((768,), eps=1e-12, elementwise_affine=True)\n",
       "        (dropout): Dropout(p=0.1, inplace=False)\n",
       "      )\n",
       "      (encoder): BertEncoder(\n",
       "        (layer): ModuleList(\n",
       "          (0-11): 12 x BertLayer(\n",
       "            (attention): BertAttention(\n",
       "              (self): BertSelfAttention(\n",
       "                (query): Linear(in_features=768, out_features=768, bias=True)\n",
       "                (key): Linear(in_features=768, out_features=768, bias=True)\n",
       "                (value): Linear(in_features=768, out_features=768, bias=True)\n",
       "                (dropout): Dropout(p=0.1, inplace=False)\n",
       "              )\n",
       "              (output): BertSelfOutput(\n",
       "                (dense): Linear(in_features=768, out_features=768, bias=True)\n",
       "                (LayerNorm): LayerNorm((768,), eps=1e-12, elementwise_affine=True)\n",
       "                (dropout): Dropout(p=0.1, inplace=False)\n",
       "              )\n",
       "            )\n",
       "            (intermediate): BertIntermediate(\n",
       "              (dense): Linear(in_features=768, out_features=3072, bias=True)\n",
       "              (intermediate_act_fn): GELUActivation()\n",
       "            )\n",
       "            (output): BertOutput(\n",
       "              (dense): Linear(in_features=3072, out_features=768, bias=True)\n",
       "              (LayerNorm): LayerNorm((768,), eps=1e-12, elementwise_affine=True)\n",
       "              (dropout): Dropout(p=0.1, inplace=False)\n",
       "            )\n",
       "          )\n",
       "        )\n",
       "      )\n",
       "    )\n",
       "    (dropout): Dropout(p=0.1, inplace=False)\n",
       "    (classifier): Linear(in_features=768, out_features=34, bias=True)\n",
       "  )\n",
       "  (ce_loss): CrossEntropyLoss()\n",
       "  (pointer_model): PointerNetwork(\n",
       "    (bert): BertModel(\n",
       "      (embeddings): BertEmbeddings(\n",
       "        (word_embeddings): Embedding(35, 256, padding_idx=34)\n",
       "        (position_embeddings): Embedding(512, 256)\n",
       "        (token_type_embeddings): Embedding(2, 256)\n",
       "        (LayerNorm): LayerNorm((256,), eps=1e-12, elementwise_affine=True)\n",
       "        (dropout): Dropout(p=0.1, inplace=False)\n",
       "      )\n",
       "      (encoder): BertEncoder(\n",
       "        (layer): ModuleList(\n",
       "          (0-1): 2 x BertLayer(\n",
       "            (attention): BertAttention(\n",
       "              (self): BertSelfAttention(\n",
       "                (query): Linear(in_features=256, out_features=256, bias=True)\n",
       "                (key): Linear(in_features=256, out_features=256, bias=True)\n",
       "                (value): Linear(in_features=256, out_features=256, bias=True)\n",
       "                (dropout): Dropout(p=0.1, inplace=False)\n",
       "              )\n",
       "              (output): BertSelfOutput(\n",
       "                (dense): Linear(in_features=256, out_features=256, bias=True)\n",
       "                (LayerNorm): LayerNorm((256,), eps=1e-12, elementwise_affine=True)\n",
       "                (dropout): Dropout(p=0.1, inplace=False)\n",
       "              )\n",
       "            )\n",
       "            (intermediate): BertIntermediate(\n",
       "              (dense): Linear(in_features=256, out_features=3072, bias=True)\n",
       "              (intermediate_act_fn): GELUActivation()\n",
       "            )\n",
       "            (output): BertOutput(\n",
       "              (dense): Linear(in_features=3072, out_features=256, bias=True)\n",
       "              (LayerNorm): LayerNorm((256,), eps=1e-12, elementwise_affine=True)\n",
       "              (dropout): Dropout(p=0.1, inplace=False)\n",
       "            )\n",
       "          )\n",
       "        )\n",
       "      )\n",
       "      (pooler): BertPooler(\n",
       "        (dense): Linear(in_features=256, out_features=256, bias=True)\n",
       "        (activation): Tanh()\n",
       "      )\n",
       "    )\n",
       "    (nll_loss): NLLLoss()\n",
       "    (word_embeddings): Embedding(35, 256, padding_idx=34)\n",
       "    (position_embeddings): Embedding(512, 256)\n",
       "    (LayerNorm): LayerNorm((256,), eps=1e-12, elementwise_affine=True)\n",
       "    (dropout): Dropout(p=0.1, inplace=False)\n",
       "    (linear_after_embed): Linear(in_features=1280, out_features=1280, bias=True)\n",
       "    (last_attention): BertSelfAttention(\n",
       "      (query): Linear(in_features=1280, out_features=1280, bias=True)\n",
       "      (key): Linear(in_features=1280, out_features=1280, bias=True)\n",
       "      (value): Linear(in_features=1280, out_features=1280, bias=True)\n",
       "      (dropout): Dropout(p=0.1, inplace=False)\n",
       "    )\n",
       "    (bert_layer): ModuleList(\n",
       "      (0-1): 2 x BertLayer(\n",
       "        (attention): BertAttention(\n",
       "          (self): BertSelfAttention(\n",
       "            (query): Linear(in_features=1280, out_features=1280, bias=True)\n",
       "            (key): Linear(in_features=1280, out_features=1280, bias=True)\n",
       "            (value): Linear(in_features=1280, out_features=1280, bias=True)\n",
       "            (dropout): Dropout(p=0.1, inplace=False)\n",
       "          )\n",
       "          (output): BertSelfOutput(\n",
       "            (dense): Linear(in_features=1280, out_features=1280, bias=True)\n",
       "            (LayerNorm): LayerNorm((1280,), eps=1e-12, elementwise_affine=True)\n",
       "            (dropout): Dropout(p=0.1, inplace=False)\n",
       "          )\n",
       "        )\n",
       "        (intermediate): BertIntermediate(\n",
       "          (dense): Linear(in_features=1280, out_features=3072, bias=True)\n",
       "          (intermediate_act_fn): GELUActivation()\n",
       "        )\n",
       "        (output): BertOutput(\n",
       "          (dense): Linear(in_features=3072, out_features=1280, bias=True)\n",
       "          (LayerNorm): LayerNorm((1280,), eps=1e-12, elementwise_affine=True)\n",
       "          (dropout): Dropout(p=0.1, inplace=False)\n",
       "        )\n",
       "      )\n",
       "    )\n",
       "    (gelu): GELU(approximate='none')\n",
       "  )\n",
       ")"
      ]
     },
     "execution_count": 83,
     "metadata": {},
     "output_type": "execute_result"
    }
   ],
   "source": [
    "lit_tagger.eval()"
   ]
  },
  {
   "cell_type": "code",
   "execution_count": 85,
   "metadata": {},
   "outputs": [],
   "source": [
    "from pprint import pprint"
   ]
  },
  {
   "cell_type": "code",
   "execution_count": 100,
   "metadata": {},
   "outputs": [],
   "source": [
    "data_0 = data_train[12]"
   ]
  },
  {
   "cell_type": "code",
   "execution_count": 101,
   "metadata": {},
   "outputs": [
    {
     "name": "stdout",
     "output_type": "stream",
     "text": [
      "[(0, '[CLS]', 'KEEP', 1, 1),\n",
      " (1, 'hal', 'KEEP', 2, 2),\n",
      " (2, 'apa', 'KEEP', 3, 3),\n",
      " (3, 'yang', 'KEEP', 4, 4),\n",
      " (4, 'lebih', 'KEEP|1', 7, 7),\n",
      " (5, 'cep', 'DELETE', 0, 0),\n",
      " (6, '##et', 'DELETE', 0, 0),\n",
      " (7, 'dari', 'KEEP', 8, 8),\n",
      " (8, 'gund', 'KEEP', 9, 9),\n",
      " (9, '##ala', 'KEEP', 10, 10),\n",
      " (10, '?', 'KEEP', 11, 11),\n",
      " (11, 'ketika', 'KEEP', 7, 13),\n",
      " (12, 'driver', 'KEEP', 0, 0),\n",
      " (13, 'dan', 'KEEP', 14, 15),\n",
      " (14, 'cs', 'KEEP', 0, 0),\n",
      " (15, 'sama', 'KEEP', 8, 16),\n",
      " (16, '-', 'KEEP', 17, 17),\n",
      " (17, 'sama', 'KEEP', 4, 21),\n",
      " (18, 'nge', 'DELETE', 0, 0),\n",
      " (19, '##cha', 'DELETE', 0, 0),\n",
      " (20, '##t', 'DELETE', 0, 0),\n",
      " (21, '\"', 'KEEP', 24, 24),\n",
      " (22, 'oke', 'KEEP|1', 0, 0),\n",
      " (23, '\"', 'KEEP|1', 0, 0),\n",
      " (24, '[SEP]', 'KEEP', 0, 0)]\n"
     ]
    }
   ],
   "source": [
    "import torch\n",
    "with torch.no_grad():\n",
    "    inp_to_model = tokenizer(data_0['informal'], return_tensors=\"pt\")\n",
    "    out_logits = lit_tagger.forward(**inp_to_model, output_hidden_states=True)\n",
    "    decoded_seq = [tokenizer_vocab_reverse[x.item()] for x in inp_to_model['input_ids'][0]]\n",
    "    decoded_label = [label_dict_reverse[x.item()] for x in out_logits.logits.argmax(-1)[0]]\n",
    "    inp_tag = torch.LongTensor([data_0['tag_labels']])\n",
    "    _, out_att = lit_tagger.forward_pointer(\n",
    "        input_ids=inp_tag,\n",
    "        attention_mask=inp_to_model[\"attention_mask\"],\n",
    "        token_type_ids=inp_to_model[\"token_type_ids\"],\n",
    "        previous_last_hidden=out_logits.hidden_states[-1],\n",
    "    )\n",
    "    att_output = out_att.argmax(-1)\n",
    "    pprint(list(zip(list(range(len(decoded_seq))), decoded_seq, decoded_label, att_output[0][0].numpy(), data_0['point_labels'])))"
   ]
  },
  {
   "cell_type": "code",
   "execution_count": 69,
   "metadata": {},
   "outputs": [],
   "source": [
    "list(zip(decoded_seq, decoded_label))"
   ]
  },
  {
   "cell_type": "code",
   "execution_count": 70,
   "metadata": {},
   "outputs": [],
   "source": []
  },
  {
   "cell_type": "code",
   "execution_count": 71,
   "metadata": {},
   "outputs": [],
   "source": []
  },
  {
   "cell_type": "code",
   "execution_count": 72,
   "metadata": {},
   "outputs": [],
   "source": []
  },
  {
   "cell_type": "code",
   "execution_count": 73,
   "metadata": {},
   "outputs": [],
   "source": []
  },
  {
   "cell_type": "code",
   "execution_count": 74,
   "metadata": {},
   "outputs": [
    {
     "data": {
      "text/plain": [
       "[('[CLS]', 'KEEP'),\n",
       " ('hah', 'KEEP'),\n",
       " ('##aha', 'KEEP'),\n",
       " ('##ha', 'DELETE'),\n",
       " ('nih', 'DELETE'),\n",
       " ('solo', 'KEEP'),\n",
       " ('x', 'KEEP'),\n",
       " ('##num', 'KEEP'),\n",
       " ('##ber', 'KEEP'),\n",
       " ('##x', 'KEEP'),\n",
       " ('x', 'KEEP'),\n",
       " ('##num', 'KEEP'),\n",
       " ('##ber', 'KEEP'),\n",
       " ('##x', 'KEEP'),\n",
       " ('k', 'DELETE'),\n",
       " ('jadi', 'KEEP'),\n",
       " ('sekian', 'KEEP'),\n",
       " ('.', 'KEEP'),\n",
       " ('[SEP]', 'KEEP')]"
      ]
     },
     "execution_count": 74,
     "metadata": {},
     "output_type": "execute_result"
    }
   ],
   "source": []
  },
  {
   "cell_type": "code",
   "execution_count": 75,
   "metadata": {},
   "outputs": [],
   "source": [
    "import torch"
   ]
  },
  {
   "cell_type": "code",
   "execution_count": 76,
   "metadata": {},
   "outputs": [],
   "source": []
  },
  {
   "cell_type": "code",
   "execution_count": 77,
   "metadata": {},
   "outputs": [],
   "source": []
  },
  {
   "cell_type": "code",
   "execution_count": 78,
   "metadata": {},
   "outputs": [],
   "source": []
  },
  {
   "cell_type": "code",
   "execution_count": 79,
   "metadata": {},
   "outputs": [
    {
     "data": {
      "text/plain": [
       "[(0, '[CLS]', 'KEEP', 1),\n",
       " (1, 'hah', 'KEEP', 2),\n",
       " (2, '##aha', 'KEEP', 5),\n",
       " (3, '##ha', 'DELETE', 0),\n",
       " (4, 'nih', 'DELETE', 0),\n",
       " (5, 'solo', 'KEEP', 6),\n",
       " (6, 'x', 'KEEP', 7),\n",
       " (7, '##num', 'KEEP', 8),\n",
       " (8, '##ber', 'KEEP', 9),\n",
       " (9, '##x', 'KEEP', 10),\n",
       " (10, 'x', 'KEEP', 11),\n",
       " (11, '##num', 'KEEP', 12),\n",
       " (12, '##ber', 'KEEP', 13),\n",
       " (13, '##x', 'KEEP', 14),\n",
       " (14, 'k', 'DELETE', 15),\n",
       " (15, 'jadi', 'KEEP', 16),\n",
       " (16, 'sekian', 'KEEP', 17),\n",
       " (17, '.', 'KEEP', 18),\n",
       " (18, '[SEP]', 'KEEP', 0)]"
      ]
     },
     "execution_count": 79,
     "metadata": {},
     "output_type": "execute_result"
    }
   ],
   "source": []
  },
  {
   "cell_type": "code",
   "execution_count": 40,
   "metadata": {},
   "outputs": [
    {
     "data": {
      "text/plain": [
       "[(0, '[CLS]', 'KEEP', 1),\n",
       " (1, 'belum', 'KEEP', 2),\n",
       " (2, 'ada', 'KEEP', 3),\n",
       " (3, 'konfirmasi', 'KEEP', 4),\n",
       " (4, 'lagi', 'KEEP|1', 7),\n",
       " (5, 'kah', 'DELETE', 0),\n",
       " (6, 'min', 'DELETE', 0),\n",
       " (7, '?', 'KEEP', 8),\n",
       " (8, '[SEP]', 'KEEP', 0)]"
      ]
     },
     "execution_count": 40,
     "metadata": {},
     "output_type": "execute_result"
    }
   ],
   "source": []
  },
  {
   "cell_type": "code",
   "execution_count": null,
   "metadata": {},
   "outputs": [],
   "source": []
  }
 ],
 "metadata": {
  "kernelspec": {
   "display_name": "sensei",
   "language": "python",
   "name": "python3"
  },
  "language_info": {
   "codemirror_mode": {
    "name": "ipython",
    "version": 3
   },
   "file_extension": ".py",
   "mimetype": "text/x-python",
   "name": "python",
   "nbconvert_exporter": "python",
   "pygments_lexer": "ipython3",
   "version": "3.11.5"
  }
 },
 "nbformat": 4,
 "nbformat_minor": 2
}
