{
 "cells": [
  {
   "cell_type": "code",
   "execution_count": null,
   "metadata": {},
   "outputs": [],
   "source": []
  },
  {
   "cell_type": "code",
   "execution_count": 1,
   "metadata": {},
   "outputs": [
    {
     "name": "stdout",
     "output_type": "stream",
     "text": [
      "/home/haryoaw/documents/courses/nlp802/project/texteditalay\n"
     ]
    }
   ],
   "source": [
    "%cd ..\n",
    "%load_ext autoreload\n",
    "%autoreload 2"
   ]
  },
  {
   "cell_type": "code",
   "execution_count": 3,
   "metadata": {},
   "outputs": [],
   "source": [
    "import fire\n",
    "from transformers import AutoTokenizer, BertForTokenClassification, BertConfig, BertForMaskedLM\n",
    "from neo_stif.components.utils import create_label_map\n",
    "import pandas as pd\n",
    "from neo_stif.components.train_data_preparation import prepare_data_tagging_and_pointer\n",
    "import datasets\n",
    "from neo_stif.lit import LitTaggerOrInsertion\n",
    "from torch.utils.data import DataLoader\n",
    "from neo_stif.components.collator import FelixCollator, FelixInsertionCollator\n",
    "from lightning import Trainer\n",
    "from lightning.pytorch.callbacks import RichProgressBar, ModelCheckpoint, EarlyStopping\n",
    "from neo_stif.components.utils import compute_class_weights\n",
    "from datasets import load_from_disk\n",
    "\n",
    "\n",
    "MAX_MASK = 30\n",
    "USE_POINTING = True\n",
    "\n",
    "\n",
    "model_dict = {\"koto\": \"indolem/indobert-base-uncased\"}\n",
    "\n",
    "\n",
    "LR_TAGGER = 5e-5 # due to the pre-trained nature\n",
    "LR_POINTER = 1e-5 # no pre-trained\n",
    "LR_INSERTION = 2e-5 # due to the pre-trained nature\n",
    "VAL_CHECK_INTERVAL = 20"
   ]
  },
  {
   "cell_type": "code",
   "execution_count": 4,
   "metadata": {},
   "outputs": [],
   "source": [
    "model_path_or_name = model_dict[\"koto\"]"
   ]
  },
  {
   "cell_type": "code",
   "execution_count": 5,
   "metadata": {},
   "outputs": [
    {
     "name": "stderr",
     "output_type": "stream",
     "text": [
      "Map: 100%|██████████| 363/363 [00:00<00:00, 5068.42 examples/s]\n",
      "Map: 100%|██████████| 363/363 [00:00<00:00, 1916.54 examples/s]\n"
     ]
    }
   ],
   "source": [
    "tokenizer = AutoTokenizer.from_pretrained(\"indolem/indobert-base-uncased\")\n",
    "label_dict = create_label_map(MAX_MASK, USE_POINTING)\n",
    "\n",
    "# Callback for trainer\n",
    "\n",
    "df_train = pd.read_csv(\"data/stif_indo/test_with_pointing.csv\")\n",
    "data_train = datasets.Dataset.from_pandas(df_train)\n",
    "data_train, label_dict = prepare_data_tagging_and_pointer(\n",
    "    data_train, tokenizer, label_dict\n",
    ")\n",
    "model_path_or_name = model_dict[\"koto\"]"
   ]
  },
  {
   "cell_type": "code",
   "execution_count": 6,
   "metadata": {},
   "outputs": [
    {
     "name": "stderr",
     "output_type": "stream",
     "text": [
      "Some weights of BertForTokenClassification were not initialized from the model checkpoint at indolem/indobert-base-uncased and are newly initialized: ['classifier.bias', 'classifier.weight']\n",
      "You should probably TRAIN this model on a down-stream task to be able to use it for predictions and inference.\n"
     ]
    }
   ],
   "source": [
    "pre_trained_bert = BertForTokenClassification.from_pretrained(\n",
    "        model_path_or_name, num_labels=len(label_dict)\n",
    "    )\n",
    "\n"
   ]
  },
  {
   "cell_type": "code",
   "execution_count": 7,
   "metadata": {},
   "outputs": [],
   "source": [
    "class_weights = (\n",
    "        compute_class_weights(df_train.label.apply(eval), num_classes=len(label_dict))\n",
    "        if True\n",
    "        else None\n",
    "    )"
   ]
  },
  {
   "cell_type": "code",
   "execution_count": 8,
   "metadata": {},
   "outputs": [],
   "source": [
    "pointer_network_config = BertConfig(\n",
    "    vocab_size=len(label_dict) + 1,\n",
    "    num_hidden_layers=2,\n",
    "    hidden_size=100,\n",
    "    num_attention_heads=1,\n",
    "    pad_token_id=len(label_dict),\n",
    ")  # + 1 as the pad token\n",
    "\n",
    "lit_tagger = LitTaggerOrInsertion(\n",
    "    # \"outputs/stif-i-f/last.ckpt\",\n",
    "    model=pre_trained_bert,\n",
    "    lr=2e-5,\n",
    "    num_classes=len(label_dict),\n",
    "    class_weight=class_weights,\n",
    "    tokenizer=tokenizer,\n",
    "    label_dict=label_dict,\n",
    "    use_pointer=USE_POINTING,\n",
    "    pointer_config=pointer_network_config,\n",
    ")"
   ]
  },
  {
   "cell_type": "code",
   "execution_count": 10,
   "metadata": {},
   "outputs": [],
   "source": [
    "data_0 = data_train[0]"
   ]
  },
  {
   "cell_type": "code",
   "execution_count": 11,
   "metadata": {},
   "outputs": [],
   "source": [
    "inp_to_model = tokenizer(data_0['informal'], return_tensors=\"pt\")"
   ]
  },
  {
   "cell_type": "code",
   "execution_count": 12,
   "metadata": {},
   "outputs": [],
   "source": [
    "lit_tagger = lit_tagger.cpu()"
   ]
  },
  {
   "cell_type": "code",
   "execution_count": 13,
   "metadata": {},
   "outputs": [],
   "source": [
    "out_logits = lit_tagger.forward(**inp_to_model, output_hidden_states=True)"
   ]
  },
  {
   "cell_type": "code",
   "execution_count": 14,
   "metadata": {},
   "outputs": [],
   "source": [
    "tokenizer_vocab_reverse = {v: k for k, v in tokenizer.vocab.items()}"
   ]
  },
  {
   "cell_type": "code",
   "execution_count": 15,
   "metadata": {},
   "outputs": [],
   "source": [
    "label_dict\n",
    "\n",
    "# reverese the label dict\n",
    "label_dict_reverse = {v: k for k, v in label_dict.items()}"
   ]
  },
  {
   "cell_type": "code",
   "execution_count": 16,
   "metadata": {},
   "outputs": [],
   "source": [
    "decoded_seq = [tokenizer_vocab_reverse[x.item()] for x in inp_to_model['input_ids'][0]]\n",
    "decoded_label = [label_dict_reverse[x.item()] for x in out_logits.logits.argmax(-1)[0]]"
   ]
  },
  {
   "cell_type": "code",
   "execution_count": 17,
   "metadata": {},
   "outputs": [
    {
     "data": {
      "text/plain": [
       "[('[CLS]', 'KEEP|10'),\n",
       " ('belum', 'KEEP|10'),\n",
       " ('ada', 'KEEP|10'),\n",
       " ('konfirmasi', 'KEEP|10'),\n",
       " ('lagi', 'KEEP|6'),\n",
       " ('kah', 'KEEP|30'),\n",
       " ('min', 'SWAP'),\n",
       " ('?', 'KEEP|10'),\n",
       " ('[SEP]', 'KEEP|10')]"
      ]
     },
     "execution_count": 17,
     "metadata": {},
     "output_type": "execute_result"
    }
   ],
   "source": [
    "list(zip(decoded_seq, decoded_label))"
   ]
  },
  {
   "cell_type": "code",
   "execution_count": 18,
   "metadata": {},
   "outputs": [
    {
     "data": {
      "text/plain": [
       "{'informal': 'belum ada konfirmasi lagi kah min ?',\n",
       " 'formal': 'belum ada konfirmasi lagikah , admin ?',\n",
       " 'point_indexes': '[1, 2, 3, 4, 7, 0, 0, 8, 0]',\n",
       " 'label': '[2, 2, 2, 2, 6, 3, 3, 2, 2]',\n",
       " 'informal_input_ids': [3, 2077, 1684, 13243, 1975, 8478, 2118, 35, 4],\n",
       " 'informal_token_type_ids': [0, 0, 0, 0, 0, 0, 0, 0, 0],\n",
       " 'informal_attention_mask': [1, 1, 1, 1, 1, 1, 1, 1, 1],\n",
       " 'formal_input_ids': [3, 2077, 1684, 13243, 1975, 3251, 16, 4374, 35, 4],\n",
       " 'formal_token_type_ids': [0, 0, 0, 0, 0, 0, 0, 0, 0, 0],\n",
       " 'formal_attention_mask': [1, 1, 1, 1, 1, 1, 1, 1, 1, 1],\n",
       " 'tag_labels': [2, 2, 2, 2, 6, 3, 3, 2, 2],\n",
       " 'point_labels': [1, 2, 3, 4, 7, 0, 0, 8, 0]}"
      ]
     },
     "execution_count": 18,
     "metadata": {},
     "output_type": "execute_result"
    }
   ],
   "source": [
    "data_0"
   ]
  },
  {
   "cell_type": "code",
   "execution_count": 20,
   "metadata": {},
   "outputs": [],
   "source": [
    "import torch"
   ]
  },
  {
   "cell_type": "code",
   "execution_count": 22,
   "metadata": {},
   "outputs": [],
   "source": [
    "inp_tag = torch.LongTensor([data_0['tag_labels']])"
   ]
  },
  {
   "cell_type": "code",
   "execution_count": 26,
   "metadata": {},
   "outputs": [
    {
     "name": "stdout",
     "output_type": "stream",
     "text": [
      "torch.Size([1, 9, 100])\n",
      "torch.Size([1, 9, 100])\n"
     ]
    },
    {
     "data": {
      "text/plain": [
       "(None,\n",
       " tensor([[[[0.1087, 0.1092, 0.1196, 0.1210, 0.1034, 0.1153, 0.1059, 0.1110,\n",
       "            0.1061],\n",
       "           [0.1094, 0.1159, 0.1187, 0.1196, 0.0992, 0.1115, 0.1058, 0.1119,\n",
       "            0.1079],\n",
       "           [0.1057, 0.1021, 0.1194, 0.1207, 0.1048, 0.1110, 0.1175, 0.1106,\n",
       "            0.1081],\n",
       "           [0.1104, 0.1099, 0.1126, 0.1176, 0.1064, 0.1075, 0.1091, 0.1140,\n",
       "            0.1124],\n",
       "           [0.1033, 0.1113, 0.1220, 0.1183, 0.1162, 0.1024, 0.1074, 0.1128,\n",
       "            0.1063],\n",
       "           [0.1116, 0.1023, 0.1193, 0.1157, 0.1017, 0.1054, 0.1101, 0.1217,\n",
       "            0.1121],\n",
       "           [0.1159, 0.1061, 0.1164, 0.1121, 0.1069, 0.1162, 0.0958, 0.1122,\n",
       "            0.1183],\n",
       "           [0.1100, 0.0982, 0.1195, 0.1150, 0.1072, 0.1090, 0.1119, 0.1160,\n",
       "            0.1132],\n",
       "           [0.1133, 0.1087, 0.1178, 0.1178, 0.1034, 0.1105, 0.1033, 0.1119,\n",
       "            0.1130]]]], grad_fn=<SoftmaxBackward0>))"
      ]
     },
     "execution_count": 26,
     "metadata": {},
     "output_type": "execute_result"
    }
   ],
   "source": [
    "lit_tagger.forward_pointer(\n",
    "    input_ids=inp_tag,\n",
    "    attention_mask=inp_to_model[\"attention_mask\"],\n",
    "    token_type_ids=inp_to_model[\"token_type_ids\"],\n",
    "    previous_last_hidden=out_logits.hidden_states[-1],\n",
    ")"
   ]
  },
  {
   "cell_type": "code",
   "execution_count": null,
   "metadata": {},
   "outputs": [],
   "source": []
  }
 ],
 "metadata": {
  "kernelspec": {
   "display_name": "sensei",
   "language": "python",
   "name": "python3"
  },
  "language_info": {
   "codemirror_mode": {
    "name": "ipython",
    "version": 3
   },
   "file_extension": ".py",
   "mimetype": "text/x-python",
   "name": "python",
   "nbconvert_exporter": "python",
   "pygments_lexer": "ipython3",
   "version": "3.11.5"
  }
 },
 "nbformat": 4,
 "nbformat_minor": 2
}
