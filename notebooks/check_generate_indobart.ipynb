{
 "cells": [
  {
   "cell_type": "code",
   "execution_count": 1,
   "metadata": {},
   "outputs": [
    {
     "name": "stderr",
     "output_type": "stream",
     "text": [
      "/home/haryoaw/mambaforge/envs/sensei/lib/python3.11/site-packages/tqdm/auto.py:21: TqdmWarning: IProgress not found. Please update jupyter and ipywidgets. See https://ipywidgets.readthedocs.io/en/stable/user_install.html\n",
      "  from .autonotebook import tqdm as notebook_tqdm\n"
     ]
    }
   ],
   "source": [
    "from transformers import MBartForConditionalGeneration"
   ]
  },
  {
   "cell_type": "code",
   "execution_count": 2,
   "metadata": {},
   "outputs": [],
   "source": [
    "from indobenchmark import IndoNLGTokenizer\n",
    "\n",
    "tokenizer = IndoNLGTokenizer.from_pretrained(\"indobenchmark/indobart-v2\")"
   ]
  },
  {
   "cell_type": "code",
   "execution_count": 9,
   "metadata": {},
   "outputs": [],
   "source": [
    "model = MBartForConditionalGeneration.from_pretrained(\"haryoaw/lexicol-indobart-v2\")"
   ]
  },
  {
   "cell_type": "code",
   "execution_count": null,
   "metadata": {},
   "outputs": [],
   "source": [
    "summary_ids = model.generate(inputs['input_ids'], decoder_input_ids = decoder_inputs['inputs_ids']  num_beams=4, max_length=5, early_stopping=True)"
   ]
  },
  {
   "cell_type": "code",
   "execution_count": 5,
   "metadata": {},
   "outputs": [],
   "source": [
    "inp = 'min biaya gw dong, thx'\n",
    "\n",
    "inp_to_model = tokenizer(inp, return_tensors='pt')['input_ids']\n",
    "result = model.generate(\n",
    "    inp_to_model, num_beams=8, max_length=100\n",
    ")"
   ]
  },
  {
   "cell_type": "markdown",
   "metadata": {},
   "source": []
  },
  {
   "cell_type": "code",
   "execution_count": 8,
   "metadata": {},
   "outputs": [
    {
     "data": {
      "text/plain": [
       "'</s> admin , biaya saya , terima kasih . terima kasih biaya seperti admin . admin , admin . min . admin . saya biaya saya biaya biaya biaya admin . . . hahaha . . tolong biaya saya . . admin ? terima kasih , biaya seperti ini saya biaya min . min , biayax . . ya min . biaya admin , , biaya terima kasih min . . min min . ya admin . telepon admin , menggunakan menggunakan saya biaya nanti , biaya datang , admin , bukan bukan ? admin . kasih .</s>'"
      ]
     },
     "execution_count": 8,
     "metadata": {},
     "output_type": "execute_result"
    }
   ],
   "source": [
    "tokenizer.decode(result[0])"
   ]
  },
  {
   "cell_type": "code",
   "execution_count": 5,
   "metadata": {},
   "outputs": [],
   "source": [
    "import pandas as pd"
   ]
  },
  {
   "cell_type": "code",
   "execution_count": 10,
   "metadata": {},
   "outputs": [],
   "source": [
    "df = pd.read_csv(\"../data/scolid/test_with_pointing.csv\")"
   ]
  },
  {
   "cell_type": "code",
   "execution_count": 11,
   "metadata": {},
   "outputs": [],
   "source": [
    "from tqdm import tqdm"
   ]
  },
  {
   "cell_type": "code",
   "execution_count": 12,
   "metadata": {},
   "outputs": [
    {
     "name": "stderr",
     "output_type": "stream",
     "text": [
      "100%|██████████| 245/245 [10:57<00:00,  2.68s/it]\n"
     ]
    }
   ],
   "source": [
    "inf_result = []\n",
    "for inf in tqdm(df.informal):\n",
    "    inp_to_model = tokenizer(inf, return_tensors='pt')['input_ids']\n",
    "    result = model.generate(\n",
    "        inp_to_model, num_beams=10, max_length=100\n",
    "    )\n",
    "    inf_result.append(tokenizer.decode(result[0], skip_special_tokens=True))"
   ]
  },
  {
   "cell_type": "code",
   "execution_count": 13,
   "metadata": {},
   "outputs": [
    {
     "data": {
      "text/plain": [
       "[' jd?! apa maksud anda dengan semua komentar-komentar yang ada ini??????',\n",
       " ' berasa silauuuuuuuuu',\n",
       " ' baru aku sadar dia cantik beudd @dianputri929 diantak termiribkankankan tubuh @duddewi929',\n",
       " ' happy birthday kak, semoga bahagia selalu dan segera married. tuhan memberkati semua aspek dalam kehidupanmu. ?? ?? ??',\n",
       " ' uda menonton kak disurabaya disurabaya surabaya disurabaya.',\n",
       " ' god is love ? itu dkuburnya daerah mana iya.. iya..',\n",
       " ' amiin ya allah allah allah amin ya allah amin amin yaallah ya allah aamiin ya allah ya allah amiin amiin allah amin amiin yaallah amin amin allah amiin ya amin amin amin amiin amin ya amin allah amin allah allah amiin amin amin aamiin yaallah amiin ya ya allahamin ya allah alah amiin amiin amin amiin amiin ya alah amin amiin allah amiin allah allah swt ya allah doanya ya allah semoga ya allah terkabul ya allahallah amin ya amiin ya rabb ya allah ya allah kabul amin ya alah amiin ya',\n",
       " ' @miaznr awas lo enggak konsisten',\n",
       " ' gak menor n norak!! enggak kaya lu. lu yang lenje ? ?',\n",
       " ' @fanistep bae2 dikomen lagi?',\n",
       " ' ariel cocok sama ariel,,,sedih deh pas tau ariel putus sama luna,,,terima kasih deh,sama luna,,,,,tapi deh pas ariel jadian sama luna,,,,,,,amin,,,senamat deh,,,pasti deh ariel sama ariel putus ma luna,,',\n",
       " ' @atyrasarlis macam muka mu pakai c @beecarlsenenggak @begitulah @dinienggakmasarlis tahi @dienggakkasarlis @benenggaklsenenggasarlis',\n",
       " ' ka alu nge fans banget kak.',\n",
       " ' @heni.hasibuan ngefans sama om nicholas dah lama,terima kasih.',\n",
       " ' ia ini pritt @goprittz , sebelum gue ke jogja gue pengin tag in ini ke gue. gga sabar buat nunggu sekuel nya ya......',\n",
       " ' onlen sop galaku saja lu belagu jing tot @queenshopmurni onenggakkk @enggakmhopmurgu',\n",
       " ' menuntut ilmu setinggi langit, bagus, bagus banget, dunia dunia dunia menjulang tinggi, akhiratnya kelihatan, belajar aqidah nya minus, what the maksud puji tuhan!!!',\n",
       " ' nnti aku bikin ya, love challange ya? @meliagustntnttntntnkttntn nnti. @mattntngntntngettn nnti nnti nnti.',\n",
       " ' pengen duet tapi kapan??',\n",
       " ' pliss... nggak kuat,, tapi kuat deng... eh,, kagak kuat lah,, pengen poto juenggakð<0x9F><0x98>¢ @atinwidhahahalah,, puenggak dong,, puenggakalah pl pl plok plok,, plok... plok',\n",
       " ' make up nya bener bener bagus banget, sampai enggak bosan lihat nya nya nya benar benar bagus banget',\n",
       " ' kangeen @prillylatuconsina96 @aliandooo #everythingisfine @<0x9D>¤â<0x9D>¤<0x9D>¤',\n",
       " ' njiirr kok tau kau? @adewulanshawulanshwulanshulansharr, nenggaku nakujahirr! @nakujahrulansharikujahrinijahr!',\n",
       " ' senengg ya @stefannwilliam goyang bang jalii teruzzz .. ..',\n",
       " ' @oggyyusta apanya ya yang mirip melihat foto ini merasa mirip kamu yang mirip kamu',\n",
       " ' ngooook ? ntar lo dengar suara gue nyanyi enggak bisa tidur lo @bsahetapyapyapy @whwhowapyapy',\n",
       " ' mau begitu juga kali @damanikyogad mau mau',\n",
       " \" makasih makasih terima kasih@dr.hafidz_healtycare ?? udah bantu aku melangsingkan dan memutihkan seluruh badan ini, jadi pede kemana-mana? beneran dah, sekali lagi thank's ya@d.hafil_healscare ? ayoo buruan hubunggi d271db12 beli dan tanyakan pemakaianya , gak usah ragu sudah banyak pembuktianya loh!!!!!! terima kasih sudah banyak testimonanya loh!! terima kasih terima kasih kasih sudah membantu aku membuktikannya loh!!!\",\n",
       " ' pans ku dari smp sampai kuliyh gini masih ada kakak marchel ganteng banget kakkakk semangat kakkak kakakk.',\n",
       " ' yg kiri mischa yang kanan marcelya kanan marcel marcelya yang kiri marcelya marcelya itu marcelya yg kanan marcely.',\n",
       " ' smoga bisa bersatu lagi......',\n",
       " ' ciusss lucu banget..palinf fav nih nih..',\n",
       " ' om dhani makin kesini kok wajahnya makin kusem dan kucel yaang lucu ya om om omel ya omel- omel omel.',\n",
       " ' @novisyahreza kok omongannya enggak sopan, perkataan sama jilbabnya enggak sesuai percuma tuh aurat ditutup tapi mulut diumbar, walau @lidyaaputrii enggak pakai jilbab tapi lebih menjaga sama omongan disosmednyanya.',\n",
       " ' favorite nya @adislevana nih kakkkkakkkakkaka favorite nih kakakkkaka favorite favorite nyahkakayaya favorite nih kakaka favoriteya @adlevana deh kakkakkaka kesukaan nya #adislevavana nih adekkakk favorite nyaa favoriteyaakkakkakayaakk favorite nyaa nih kakakaka favorite nya',\n",
       " ' tetep cantik ka @raisa6690 ??? ???',\n",
       " ' item manis banget! item item item banget!',\n",
       " ' smga utuh sampai sekarang,enggak adia wanita lain daripada suaminya yang lain.enggak ada wanita lain',\n",
       " ' cantik banget.. subhanallah.. subhanallah!',\n",
       " ' amiiinninn am am aminn amamin am amamin',\n",
       " ' lbh cantik waktu kecil @nikitawillyofficial949494',\n",
       " ' pucing pala abang neng??????',\n",
       " ' ngareppppp ahahaha @intanamaliahh tapi aminin dulu aja ya ya ya allah yaang ngarep ngarep dulu saja ya ya ngarep ngarep ngarep',\n",
       " ' bedain dari tatto nya saja..he bang @marcelchandraandraandra',\n",
       " ' wanita enggak,tau malu senang banget hancur rumah tangga orang tuanya orang tua orang tua wanita.wanita enggak,tidak',\n",
       " ' ini naaahhh ð<0x9F><0x98><0x81>ð<0x9F><0x99><0x81> @riansaputrayusufusufufufarufariniaahhh.',\n",
       " ' wkwkw kaku ya paaakaakaakkkk wkwkw wkwkw wkwkwkwkw wkwkw wkwkw',\n",
       " ' teteh cantik pakai hijab ? ?',\n",
       " ' astaghfirullah mulutnyaaaaaaa mulutnyaaa astaghhhh mulutnyaaa',\n",
       " ' ampuuun mengakak bangetð<0x9F><0x98><0x82>ð<0x9F><0x99><0x82>ð<0x9E><0x84><0x98><0x84>',\n",
       " ' @imeldagsiregar aku sudah jadi anak baik mak mak mak emak mak makmak mak mak',\n",
       " ' doupai face @nrfitriangrini02 #bantujawab saja kok repot-bantu dijawab saja kok.',\n",
       " ' wkwkkw sabal ya lak. udahlah stop bermimpi kauuuu @cmsihotangenggakotangangang @mangbalangbangotangbangetang wkwk @smangbal lah haha @wangballahangbal ya bang. wkwkkw tahibal lah lak.',\n",
       " ' @ayuhadhi_ iihh lucu anaknya, bisa ketawa begitu pas abi nya dzikir >_<_<<<>_<\\\\<<amp>a lucu bapaknya, bisa mengakak begitu pas ali nya dzikir <_<amp<<\\\\>aih lucu anaknyaa #<<ayuhadhhi_ aduhalah anaknya, makaksih lucu banget anaknya, senangiihnyaa allah subhanakakkakkakkaksih ya allah <_ ',\n",
       " ' omg cantik banget ??? @ayangnadyanadyaadyaadyadadyaadyabadyab omg omg omg !!! omg omg cantik omg !!!',\n",
       " ' itu kak prilly pakai wikon dari wikon itu.',\n",
       " ' @marshanda99 sudah lupa.',\n",
       " ' emg dasar y cantik dari lahir.beda sama yg satu y cantik pakai dempul or make up orang tua kayax apa ea ea eaya itu eaya apa eaya',\n",
       " ' ini pasangan menyebalkan banget sumpah... bikin iri ?? ??',\n",
       " ' @cicimaulanii @kesia_natalia ini yang kata cici alila di bali. vila nya 20juta an , ajak berapa puluh orang baru berangkat? wkwkwk wkwkwk. wkwkwk',\n",
       " ' @anggara_ta2626 luar biasahhh',\n",
       " ' marcel yang bertato dong @marcelchandra tetap ada bedanya.aku dari dulu bisa bedain kok kok kokang ada bedanya kokang berbeda kokang marcel kokang bertato kok @matchandraa',\n",
       " ' tas kanvas cuma 19ribu cek dulu cek dulu',\n",
       " ' hanya di @louveclothing bisa dapetin sweater dan jacket murah pas kantong pelajar pelajar dan mahasiswa.',\n",
       " ' keren anjir @_mary_liz_shellyn_ @eugenia_stevie_goz_gozz_goy_njir_gojoz_banget_benar-benar keren keren anjir_goya_stadi_goar_gojek keren keren keren banget_goet_gojeh_lucu_lugaknjir',\n",
       " ' lah gua suka korea juenggak enggak gitu-gitu amat, biarin ajalah orang mau kaya bagaimana hahhaa aneh ada aja orang kaya lo @meilisa_kyungsoo_ ????????????????????????????????????enggaknlah orang kaya lah @samarisa_kamarsajalah_',\n",
       " ' cinta laura itu islam apa kristen sih? krpoooooooooo krpooooooooo serius serius serius deh serius serius banget sumpahoooooo',\n",
       " ' kehidupannya mereka, hati mereka, rencana mereka atau perasaan mereka mana pernah ada yang tau. hidup kita saja belum benar sudah mau mengurusi hidup orang lain. doain aja yang baik-baik. klo mami @juliaperrezz mau menasihati temannya, ya karena dia kenal siapa \"dia\" dibanding kita..... segala resiko atau kebaikannya, bakal kak @jliaperrizz dan keluarga yang rasakan. enjoy saja cuy menjalani hidup.... enjoy saja jalani hidup........ jalani saja menjalani kehidupan........',\n",
       " ' fatan banget mbak @namira_maniz.22 jangan terlalu fanatik bisa ketulah loh hahah hahah hahahhaha hahah hahahhaa',\n",
       " ' gak tau dirinya dimana?? jangan pada komen enggak bener kalo gak tau yg sebenarnya mah, udah kaya anjing aja pada ngegonggong enggak tau salahnya apa salahnya apa enggak tau apa-apa yanenggak gak tau yang sebenernya mah,',\n",
       " ' sabar ya bun, enggak usah diladenin tar yang cape juga dia sendiri. dia cuma mancing-mancing kesabaran bunda. balas aja pake senyuman bun. bunda diem saja dia tetep salah ko. janenggakn salah kok. balas saja pakai sabar ya. bunda diam saja dia tetap sabar ko.',\n",
       " ' penerus nya glen xhealsea semoga pacaran lama terus nikah kali sudah sama sama sukses gbu ya @cassandraslee @randymartinnnartinngeninnnrenlee penerus penerusa penerusa',\n",
       " ' iya intinyapengen ngestalk saja kangenð<0x9F><0x98>¢¢ iya iya.',\n",
       " ' foto yang ini maksudnya .bkn di grup@temannauraaaaaaaaaaaaaaaaaaaaaaaaaaaaaaaaaaaaaaaaaaa foto bareng.foto yang ini berisi foto-foto.begini fotonyaa foto bersama.lihat fotonyaa fotonyaa.lihat foto foto di foto foto.',\n",
       " ' cantikk and gantengenggaknya',\n",
       " ' ingin muka putih senatural mungkin ? ? menghilangkn bekas jerawat ? nutrisi vitamin utk kulit ? ?? atau yang enggak pede karna gemuk ?? ? product herbal alami utk masalah anda :) ada bpom, halal mui. follow@herbalconsultant / pin.bbm/5cf3a833 wa 08235273521999wa99999wa/wayang.',\n",
       " ' terus yang ini @sylviarivianvianvianianvianvian terus terus terus.',\n",
       " ' anjay kamu stalk -.- @trianitadillacarolinnayna',\n",
       " ' ? followig@cantik_simple enggak perlu repot-repot oles2 pakai cream, putih nya pun ga merata? ckup minum vitaline dapatkan kulit mulus putih merata ? yuk order vitaline nya always ready stock ? pin 583ad19e wa+6289666342881 add idline cantik_dimple ? pin 563ad18e ?',\n",
       " ' tempo tempooe? tempo doeloe?? tempo tempo tempo dulu?oe?',\n",
       " ' kangen mereka, pengganti triplets sumpah enggak lucu banget, jadi malas menonton langsung.',\n",
       " ' bagi aku bagaimana pun bang ali tetap aja ganteng dan keceee nyaa apalagi kalau shalat hhhmmm gila banget ganteng nya sampai enggak berkedip mata aku kakak??? @aliandoooooooooooooooooooo',\n",
       " ' ? ? ? langkah ? aman tanpa efeksamping, terbukti dan terjamin khasiatnya lirik yuk langsung saja invite bbm ; d327b6d7 whats app : 081222798256 add line @eau2931e . yuk order :) ? o?kir ? ?r??? besar besaran ? ?l ? ?',\n",
       " ' klo enggak mau di komentarin jangan di jadi guru pak/bu.. bijak-mudi lah dalam menyikapi.',\n",
       " ' hihi @suryanihennie tanya langsung saja ke kak nico di cini. hhe..he..',\n",
       " ' astgfrullah???',\n",
       " ' ciee yang mu nikah bulan novembr lancar ya ka semoga sampai hri hhari h lebaran hdi hadi h.amin.',\n",
       " ' @annasyaalika kayak begini looo looooo',\n",
       " ' teh rinaaaaa geulis makin suka teteh @rinanose1616 teh',\n",
       " ' yg bertatto si marchel :d :d)d)yaitu :dyaitu',\n",
       " ' ka memangnya kakak enggak benci sama adrianaanaanaa adrianaa?',\n",
       " ' mab @rinanose16 makin cantik mbak....terima kasih....',\n",
       " ' knp minta add aliando see see abangdo see kakak see kakakdo see tantedo seedo seeya see kakak.',\n",
       " ' @astuti120 kalo teh @raisa6690 mah tulisannya diatas kolam renang lo mah disepanjang kali cisadane tii.. lebih greget gimana geetooooo.. hahahaa',\n",
       " ' kok puji tuhan kitanya......',\n",
       " ' utkmu lah @dedi_vale46 :* :* :*',\n",
       " ' woww ariana grande ^^^',\n",
       " ' gubernur jawa barat bukannya dari partai korupsi sapi??',\n",
       " ' cek ig ak yuk? jual app termurah dan fast respon lohhh 20 pembeli pertama dapat diskon besar-besaranan',\n",
       " ' hehee. kan aku udah ke solo sama surabaya kemari ? next film ya sama @filmsalawaku coming soon.. | @ariestaneneng @niasuseno',\n",
       " ' selamat ya kak atas kelahiran putri pertama nya thalia putri onsu tuhan jesus memberkati memberkati memberkati.',\n",
       " ' maaf ya randy.. postingan kamu di liat banyak orang termasuk anak-anak juga. so tolong lah jangan terlalu mengumbar-umbar kalian kalau masih sangat muda ye kan? @ai_cytaekookookookenggaknekookekookkakkookkakakkakkakkakaakkakaa maaf yaangnakkakaaaakkakabantuakkakawakakaaakkakawakawahawahawakakawkakkakawhakawkaakkaka',\n",
       " ' ambil line foto nya keren-keren bang. gak menyangka, kirain cuma pajangan tuh kamera di film aadc, curiga punya sendiri. foto di ny nya kayanya juga abang @nicholassaputra yang ambil kah?',\n",
       " \" invite 5e8ca768 ' gak pede sama ukuran payudara kamu? nih@dr.beautybreast punya solusi buat kamu yang pengen dapetin payudara indah dan ideal seperti julia perez dan artis lainnya bbm : 5e9ca769 . pin invite invite pin invite pin pin invite bbm 5e7768 . invite invite invite bbm . 5e5ca767 . pin bbm invite invite bb invite pin bb invite bbm invite pin\",\n",
       " ' aaaaaaaa ?????? aktor dan artis yang pertama kali ane fans nii waktu jaman nya masih sekolah smp ,kka @csugiono @titi_kamall lofyuuu dah jgn berantem ya ttep seperti ini yang jrang tayang di berita gosip-an ???anenggak.an ??????anjing-anjing ???anjing ?anjingnya ??????',\n",
       " ' nambah tua nambah sotoy zi @zizizazuzezuzezezizezezezzezezozezeqizeze nambah nambah deh zi',\n",
       " ' alissnya bagus masa???',\n",
       " ' memakai hijab juga tidak mengurangi aktifitas yang ada kok.............',\n",
       " ' pengen menarik namun payudara kecil? tenang ko sekarang udah ada solusinya invite aja langsung cek ig@ahli.payudara.id',\n",
       " ' mauu????? @vannisafajrjr mau mau?????',\n",
       " ' bunda maya ki memang enggak cocok ambek dani, terlalu cantik soale dani.',\n",
       " ' yaaallahhhhhhh gemasnya tirrr???? @mutiarasantika1717173 yaa allahhhhhhh menggemaskannya gemas????',\n",
       " ' ce kalau di twitter scrool jangan dalam dalam ya hahaha kasihan kamu @yoeriche ?? ??',\n",
       " ' @inesnugroho enggak nes. miripan tadi. wkwkwk. wkwkwk',\n",
       " ' wahai pujangga cinta? @sakinaahsly @nicholassaputrassaputraaaaaputra pujangga cintaaaaaaa?',\n",
       " ' kangenn banget @prillylatuconsina96 @aliandoooooooooooooo kangen kangen kangen @banget kangendooo',\n",
       " ' kak mischa lebih tinggi,,,trs jidad nya lebih lebar hheheheeheheehehe hheheheeheeheheehehe',\n",
       " ' @nike_ansiy_yoonseong ,mungkin bunda maia mabuk,karena dia sudah tau ahmad dhani selingkuh sama mulan,coba kalo kamu lagi di pihak maia,blim tentu kamu sekuat beliau...terima kasih sayangku...amin...amin',\n",
       " ' @erdin_sudin_ tapi itu dulu dulu',\n",
       " ' . rela meninggalkan ka natasya demi orang ini, aduh kastefen kurang apa natasyaa (?)))',\n",
       " ' thx ya kak sudah merekomendasikan produk pelangsing di@beautyandhealthyy berat badan aku turun 7kg dalam 2 minggu nih kak , aku jadi enggak minder lagi thx ya kakak terima kasih ya kak',\n",
       " ' ngriii amatt amatt',\n",
       " \" so sweet .. ?bs ber'expresi begitu ka?@richy_frandiantoantoantoy\",\n",
       " ' yorieche biasanya di gereja apa? sdh ada yang tnya ini belum td @yoerichey yenggak @yerikiche yenggaka y yyaitu yya? yya yyay yyayay',\n",
       " ' yah yo. jd pengin punya bayi hahahah @vionurainiiniiniyainiyaitua ya.',\n",
       " ' senyumnya bikin aku meleleh ih @tulusmulusmasih?? @tuulusmakinmasih senyumnya??',\n",
       " ' kasiannn banget mulan n dhani.. tiap hari di hujat banyak orang. mgkin bagian dari karma kali ya yeman kali yeman hujat orang banyak. kasihan yeman.. kasian yeman. kasian jemanjatnya yeman',\n",
       " ' @chatrinepricillia iya kaya begitu gua yang tenggah yaang yaang hidung yaang mancung yaang',\n",
       " ' pengen nyatakan perasaan ke gebetan lewat gambar??cek ig @dalamkata save gambar graaatiiiis..',\n",
       " ' iyaa cocok a sama kak luna jadi kangen deh.',\n",
       " ' hahaha luthuna... kamu bisa ya gt enggak komen apapun tentang mereka ? love yaang yaang komen yaang penting.',\n",
       " ' bbm kamu bisa masuk tapi kalau dibls ceklist terusss saa @nurulsusanti25212121242121 bbm bbm bbm',\n",
       " ' wihh asalnya saya engenggak percaya sama produk@fashionsehat_herbal yang katanya bisa membesarkan dan mengencangkan payudara, pas saya coba 20 hari aku merasa ada perubahan dengan payudaraku , ngeri banget deh :) terima kasih ya :) makasih ya :) makaksih ya :) janenggakn ya :) semanenggakra',\n",
       " ' heehe... betul juga...',\n",
       " ' parah parah @carissaifeifaifaiffaif parah parah parah',\n",
       " ' mari kita bekerja keras @vicensiamelva ð<0x9F><0x98><0x86>ð<0x9F><0x99><0x86>',\n",
       " ' makin loveee da. sukses buat suaminga kak @missnyctagina yang udah menuntun istri buat berhijap. smgaa istiqamah. semakina istiqomah. salam istiqomah. makaksih. salam sukses buat muslimah. makin istiqomah. makin istiqamahnya berhijab. makin makin makin berjamah. makin berjakin. makin sakinahahnya teteh. salam makin makin sayang. makin sukses buat teteh. makin sayang teteh makin makin cantik. makin makakin teteh. sukses',\n",
       " ' kaka kulit aku sama kaya kakak , sama sama putih, aku juga pake produk@herbaldistro.id enggak menyesal deh ka :) ka :)',\n",
       " ' ada promo cash back nih di@womanbeauty.care untuk alat pembesar payudara nya, sayang kalo di lewatkan, saya juga sudah merasakan ajaibnya barang tersebut, denenggakn pemakaian rutin selama 3 minggu hasilnya payudara ku sangat indah, dan suamiku senang banget, mau dapet info lebih?? nih pin nya d30054b4 whatsapp 0822409566056055 whatsapp 0822607605655',\n",
       " ' @de_caths saya setuju dengan pendapat kamu.',\n",
       " ' lagian cuma foto jadi pada tebir hahah hahah hahahhaa hahahhaa',\n",
       " ' @salvatorejason fix i mau dia dia dia',\n",
       " ' kakak pembina lagi sakit.... sesuatu ya... ???',\n",
       " ' yang komen dan mengait-ngitkan itu macam betul saja ...dasar taik,mulutu mencir-ngir tau nya gosipin orang saja dan sok tau kalian.kalo sempat enggak percaya apa yang selama nie jadi omongan kalian,mudah-mudahan di laknat kalian semua tuh.dasar mulut kanina ...lihatnya ...lihat mulutnya ...lihat giginya ...lihat gigi kanina ...sampai-sampai ...menyelesihnya.lihat mulutnya saja ...lihat',\n",
       " ' @linayulien kapan indonesia maju kalau bikin caption english saja di bilang sok. sok inggris. begini dibilang sok inggris',\n",
       " ' amiin @sandradewi888888',\n",
       " ' @angga_fabiyan yep. gua israel.. dari pada u.. ngaku-ngaku arab.. mirip arab saja kagak.. hahaha... hahaha...',\n",
       " ' aku iri ð<0x9F><0x98>¥ belum bisa berhijab @rinanose16161617161717171817171917171616191917191919181919 aku iri akua16161819181819 akua akua iri #rinanosose161918 akua18191718 aku iri',\n",
       " ' cantik banget kalo pakai hijab ?? ??',\n",
       " ' ariell balikan lagi saja sama lunaaa...???enggakn...?',\n",
       " ' @ellensinaga cantik banget..pangling',\n",
       " ' cantik bunda... rahasia nya apa biar tetep cantik awet mudaa nyaa... cantik awet tuaa bundaa cantika cantik nyaa',\n",
       " ' kek gini juga boleh, nyanyanya ð<0x9F><0x98><0x98> @judjudijudi',\n",
       " ' jujur...dulu sebelum nikah christian keliatannya keren dan berkarisma....tapi begitu sudah nikah kok keliatannya hilang karismanya/auranya....tetep ganteng siih, tapi sudah enggak segreget dulu......tapi jujur dulu...selamat nikah...tetapi perubahannya hilang kecantikannya....tetap ganteng banget gayanya....terima kasih...sejaknya.',\n",
       " ' lu sumpel saja dia dada lu pakai tisu entar juga sama kaya itu @dyahfadhillahillahillah @syahfadillahillahim lu lu lu pakai tis lu @diyahfudhillahillahd lu lu punya tisluitua',\n",
       " ' @efendinurulhuda wkwkkw dulu aku rjun stkl ini aenggak apa-apa',\n",
       " ' gresik jan lupa di kunjungin juga ya.. @yoericheericsheer..',\n",
       " ' @dhexanggit emm enggak mirip sama pacarmu',\n",
       " ' inget banget ini lagu pas awal awal mereka dekat,ini lagu kebangsaan banget pas waktu itu haha bang bang @aliandoooooooongenggakndooooooooooenggakkaloenggakneenggakkeendoooongnenggakakkeenenggakukkeingetkeen ingetkeen ingatkeinget inget ingetkeingetn ingetke inget inget ingetn inget inget banget waktu dulu bang bangbanget inget banget lagu inget banget itu lagu pas waktu',\n",
       " ' mirip @elelrumi dan mirip alm.nike ardilailailalah ardilala ardilalah mirip almarhum ardilalilalah.',\n",
       " ' @monicasterina nihhh',\n",
       " ' inia lho cantik indonesia?? indonesia?',\n",
       " ' kok bisa ya ...???? kok ...??',\n",
       " ' ohgos!novelnya saja bagus bagus bagus',\n",
       " ' q awal lihat cessi di tv dulu waktu sinetron eneng cakep banget....',\n",
       " ' bener deh say, setelah aku order alatnya@bigbreastnatural aku merasa puas banget. payudara jadi besar dan kencang. paha dan betis juenggak enggak kaya tukang becak lagi. senenggg nih aku kasih kontaknya chat ke wa : 0857-9305-1973 / bbm : 5b8be79e / line : @zhb0594n (pakai @))',\n",
       " ' luna,mohon jangan dihapus foto ini biar jadi kenangan bagi kita semua,amin.terima kasih.',\n",
       " ' kumisan,jadi om kumis dong:):):)',\n",
       " ' ini kita ini @rdinikartikaikaika ini kita nih @rakdinikaartikaini',\n",
       " ' mata nya itu kaya alleiaiaia itu kaya bellaiaiaitu mata mata matayaitu matamata matamatamata mata matamata nya itu matamata',\n",
       " ' kalo aku sih lebih perhatiam sama karyanya saja, dari pada kehidupan pribadinya bagaimanapun juga mas dhani tetap orang yang hebat,sampai detik ini aku tetap ngefens sama mas dhani, hidup ahmad dhani..',\n",
       " ' @yukiharuka86 kamu idolanya ya??ð<0x9F><0x98><0x82>sampe tau dia kayak apa??? wkwkwkw makanya kalo mengomong ati-ati sendiri kan....ð<0x9F><0x99><0x9C>ð<0x9F><0x93><0x9C>bodhoo siihhh!!!!!!!!!!',\n",
       " ' ibu ashanti khadiran ibu dalam kel. kecil pak anang dg 2 anak (m aurel & m azriel) srta di tmbah dede kcil putri cantik arsy mmberi kan kberkahn kbahagiaan semoga tetap tentram damai tenang bersama kel.kecil hngga akhir hayat kalian ya. kl ada yang salahdapat mnilai fisik jelek cantik trutama m aurel jangan di hiraukn. diamkn saja. hrsny mereka bersyukur hingga detik in allah mm',\n",
       " ' wanjerrr ganiru lo aku @auliaaaululaaulaaauluaaauluaaaaulihaaaulihaaaaarbangbangbangetbanget wan wan wanaku @aaulenggaknbangrr wanakubangbangrr cantik wan wanakabangbang!bangbang wan wanbangbangaaulrr wan wanamu @bangbanggakbangbangbirrr wanbangrr tahibangrr yukulrr tahi tahibangbang kau aku ',\n",
       " ' yo yo yo.... kuyy lah kita ikutan bga nya@heyitsmaliqaaa????, dijamin 100% real!!??? waktu pengumumannya bentar lagi loh! (1oktober2k16) kuyy kita ikutan!???? klw kamu ga ikut kamu bakal rugi banget????? yuk ikutan!? #maafspam:)))',\n",
       " ' sama nenek-nenek\".',\n",
       " ' anjirrrrð<0x9F><0x99><0x82>ð<0x9F><0x98><0x82> @ehpbethztttao_oo anjir anjir anjir',\n",
       " ' dari dulu belum kesampaian poto kayak begini....@wigihprasetyoyoyojoetyojogiyojoe dari jauh.',\n",
       " ' so? @wahyudi2012 nanti aku tag semua foto nhayaitu foto soyaitu soya soyayaya.',\n",
       " ' azka lucuuuuuuuuuuuuu az azam lucuuuuu azam az azka azamuuuu azaka lucuuuuuuuu azamka lucuuuu az az azak lucuuuuuuu az azlu lucuuuuulah azkauuuu azka menggemaskan az azama az azaya lucuuuuulu lucu az azik az azar az azk azka kocak azka kerenuuuu azak az azky az azeka lucuuuuu! azka imut azkaaaa az azaknya lucuuuuu lucuuuuu',\n",
       " ' @septi_ayu86 harus nya lo nyadar.fea itu anak yang enggak tau apa-apa,mengapain lo mengomong /menyongkan kta yang sangat enggak pantas untuk anak sekecil itu.dmn hati nurani lo...terima kasih...',\n",
       " ' adenya mah ganteng bang mueheheeeeeeeeeeeeeeeeeeeeeeeeeeeeeeeeeeheheheeeeeeeeeeeeeeeeeeeeheeeeeeeeeeeheheeeeeeheeeeeeeeeeeheeeeeeehehei ad adia adialah ganteng bang adia ganteng banget adiabangnya mah ganteng banget bang ganteng bang ganteng banget iheheheheehehehheheheheheeeeeeeeeeneheheehehheeheheaaaaeeeeeeeeeieheheneh',\n",
       " ' bayi tau mana orang yang sholeh. kalimat thoyyibah seperti sholawat membuat malaikat kecil menangis senang n tersenyum senang senang senang.',\n",
       " ' kok kita dengar dia bilang melbourne kaya cirebon ya ??. @riskirosdiana',\n",
       " ' @cndytf mana badan greng muke mahaganteng lagi. mahaindah ciptaan tuhan tuhan.',\n",
       " ' kayak cita sendiri pernah boong soal statusnya ya..',\n",
       " ' blh plk x pakai tudung blik...haiyayaya!',\n",
       " ' bunda cantiknya tidak bosan saya lihat...usianya sudah 40 tahun tapi seperti abg...???????????????anenggakn...???anenggaknyaa bunda...??????anak bunda...anenggakalah bunda...anak bunda cantiknyaa bunda....anenggakana bunda bundaka...???anak bundakalah bundakaa bundia...??????????lanenggaka bundia bundialah bundia cantik bundia cantiknyaa bundata bundiawi bundia bunda...??????????',\n",
       " ' indahhh banget di mana tuh tuhh tuhh',\n",
       " ' gue awalnya enggak percaya, setelah ke fantasypanel.id rupanya memang benaran! followers dan like gue nambah banyak!',\n",
       " ' haiii cantik banget dirimu ...????????????tapi haiii cantiknya ...???????',\n",
       " ' keeeerrrreeeennnnnnnnnn setelah aku pake alat pembesar payudara dari@bigbreastnatural payudaraku ga kendur lagi ??? chat ke wa : 0857-9305-1973 / bbm : 5b8be79e / line : @zhb0594n (pakai @)))',\n",
       " ' bada kiblat begini ya ,.....trus lu kate kd gada kasih sayang,eh cabe-cabean an jangan banyak songeh kalo gatau jamannya,lu kan hidup d jaman asanti ...mana tau perjuangan kd,cabe labil@@avry_sitohangitohangohangdiohanginiang kuat.',\n",
       " ' aaahh kangen kak, mau menonton bareng lagi u,u @karinasalimalimalimenggakalimalimasalimunenggakmaliminenggakkaliminalimin #karinenggakminenggaknasalimaminenggakakk @nenggakasaliminakkalimamin @enggakakalimammalimahh @akakkalimammadenggakraahh kangen kakak, mau nonton bareng dong kak, @',\n",
       " ' @nessiadaulay awk lah nengok aslinyo:))))',\n",
       " ' selamat ya to kakak uben n mb wenda.... ats klahiran putri cantiknya........ atas kelahiran putri cantiknya......... atas kecantikannya....',\n",
       " ' lucuu @monicasvtrowtrow lucuu lucuu',\n",
       " ' enak enak enak @diahayunitititih enak enak',\n",
       " ' ke tempat kayak begitu pakai rok panjang. geeelaakk @winaspt @junitari wkwk wkwk wkwk.',\n",
       " ' produk dari@dr.alamsyah.herbal oke banget, perut aku sudah enggak buncit lagi berkat produknya. makasih ya :)',\n",
       " ' hbd k ariel hbd kak ariel hya hyaenggak hyagung hyajah hyadah hyafah hyaqah hyabd kakh hyajab hyaah hyagah hyaadah hyab hbd kakak hyaya hbdk hyaahh hyaad hhbd kak henggakh hh hbd h hbd kahad hbd saja h hhabd kak',\n",
       " ' cantik banget loh,sumpah!!??? @rinanose16161617',\n",
       " ' apa orang gue yang merasa bunda maua mirip @nat_nattasha natasha nauljam. cantiiik ð<0x9F><0x98><0x98>ð<0x9F><0x99><0x98><0x98><0x98>',\n",
       " ' ?? tambah tinggi (3-10cm) usia 13 s/d 35 tahun. ? turun bb (5-25kg) putih seluruh tubuh ? herbal alami ? alat mhca ( pengencang&pembesar payudara ) cek ig kita kak ? hargamurah konsultasi gratis ?le????? ????? ?? tambah tinggenggakn usia 13 tahun/d 34 tahun. . turun bb(5-5cm) selanenggakt usia 13 padad 35 thn. ? naik bb (',\n",
       " ' ? jangan sampai tinggi badan kamu menghambat cita-cita pengin jadi polisi, polwan, tni, pramugari, dll. ready ? suplement peninggi badan terbaik dunia ?? terbuat dari bahan herbal alami. follow@dokterbeauty/ konsultasikan ? pin 5fb42757 wa & line cek di bio. tanpa efek samping, ada bpom, halal mui. aman mui.',\n",
       " ' kak jupe jangan salah bela orang kak kakalo kak kak kakkak kakk kak kakak kak kakn kak kakaki kak kakenggak kak kakakn kak kakya kakkakak kak kakakak kakkakk kakkakn kakkalo kakkk kakkaki kakkang kak kakaka kak kakareng kak kako kak kakeman kak kak jupe kak kakakk kak kakaran kak kak kakak kak kake kak kaki kak kaklo kak kaktau kak kakang',\n",
       " ' @amaliagit ta , pengin ngene mbe afgan ? ?',\n",
       " ' @nisachusna emang yo beb baru 20 tahun, aku kan dah bilang uga kemarin akurenenggakn begitu juga kemarin. @nikachusna juenggak',\n",
       " ' kapan kamu bikin caption kayak begini buat aku ?? @reinazhafezzadafezaday akuyayayayyayafezakafezwafezapayaya kapanya akuya kamuyaya ? @radiyayazadayayaf kapanyaya kamu kapanya kamu membuat caption begitu ?? #reinaziyayajayayalah kapanya kapan akuya aku bikin caption kapanya adaya kamu buatkan aku ??',\n",
       " ' selamat ya k uben sama teh wenda ?? sehat terus dekbayi nya.. amin.. amin .. amin.. selamat ya kak selamat ya teteh wenda',\n",
       " ' jamannya sinet bulan & bintang & bintang bintang',\n",
       " ' emang kalo entar aku datang nyanyi love yourselfð<0x9F><0x98><0x8D>@andre.kurniawanniawannnnangenggaknn...',\n",
       " ' d.apa apain saja tetap cantik ....? emng sekarang .y sudah cantik dari dulu.... ? ?',\n",
       " ' cek ig@carasehatid yuk ladies2 cantik, melangsingkan tubuh turun 5kg dan kulit jadi glowing dalam seminggu , banyak bukti bukan janji, cek bbm kita 5fb2512c konsultasi gratis...!!!!!!',\n",
       " ' baguusss di mana ini sa @nisaulbarirohrohangrohrohroh baenggakrohrohbaenggaktariroh ba bawakrohroh.',\n",
       " ' yg lihat kan?? @nur_aqilahkalililililnyaililliilil @nikur_kilahlitulah.',\n",
       " ' happy birthday kak .. sukses terussss .. happy terussss',\n",
       " ' cocok banget ka jesica dengan ka al ??? ???',\n",
       " ' nama mimin nya adit..yang coment di atas mbak natalie.',\n",
       " ' emang cocok.tapi cocoknya jadi emakxya.papaknya cocoklah jadi emaknyaa.adapi memang cocoknyaa',\n",
       " ' emesshhh gempii gempii',\n",
       " ' kk cakep banget ya allah kapan-kapan main ke kampung saya ya ? ? ?',\n",
       " ' nahhh kalo ternyata itu boneka anjing piyeeee jal??? gimana coba.. sekarang kan banyak perusahaan boneka yang buat boneka nya nyaris mirip asli.. lah wong anggun artis banyak uang nya.. beli boneka yang bagus mirip asli jg bisa toh... saudara ku jangan rusuh napa??? semua agama jg menyuruh umat nya cinta damai kan... % ?+?-!# #&$ _! \" mikir juga ane,itu boneka apa asli ya???? hehe hehe hehe...',\n",
       " ' @rirhyn_jhuliani jangan jealous ya hihihi ?',\n",
       " ' itu siapa-apa yang di fto,,hi hi kepo banget eyke.',\n",
       " ' hai cantik.. mampir yuk ð<0x9F><0x98><0x98> enggak digembok loh ð<0x9E><0x94><0x93>ð<0x9F><0x94><0x93> termurah seinstagram â<0x9F><0x98><0x8D>ð<0x9F><0x99><0x8D><0x8D><0x8D>...<0x8D>',\n",
       " ' bah! jorooknya haha haha haha',\n",
       " ' wong dani juga suka mengatai orang ya wajar diganti dikata-katai orang kaya orang orang kaya.',\n",
       " ' wow pengin foto bareng sama tiffany snsd snsd snsd tiffany snsd wow wow!',\n",
       " ' makasih ya ka, ternyata benar produk pemutih badan yang kak sarankan di@hen_fashionhealthy bikin kulit aku jadi lebih putih bersih dan enggak kusam lagi, thanks ya ka udah saranin senang banget hehe hehe hehe terima kasih kasih banget hehe.',\n",
       " ' kalah sama ade emeshh @dindalisaaa',\n",
       " ' cntik bgt banget cntik banget',\n",
       " ' edyan 15 tahun pacarane wes koyp ngene,,, rusakkk indonesia @desy_pegegegek @degekpegekegeginian @segegemegegeh_degeginegeg ed ed edeg edegineh ed edem ed edeh edis ed edih ed edek ed edisw ed ede ed edd ed edow ed edam ed edew ed edadi ed ed',\n",
       " ' leh uga @pietapanjaitanjaitan',\n",
       " ' i like it @rinanose16 dalam proses hijrah nya ? tampil lebih cantik dengan hijab nya.',\n",
       " ' kalau gue ogah banget menonton nya apa lagi gue enggak ke hibur kok kok kok.',\n",
       " ' @yeremiakrisanto ya memang itu sindiran, masih dalam koridor wajar kok kok.',\n",
       " ' lihatlah kamu yang cantiq luna maya?? jangan suka gampang tersinggung...kalo aku lihat kamu dibalik layar, mereka semua nya hanya bercanda...harus bisa berbesar hati ya ..beauty...banget...amin...sudiahuty...kamuuty...diyuty...lihatnyaa...lihatlah cantiknyaa luna maya..lihatlah kecantikanmu..lihatlihatlah fotonyaa..lihata fotonyaa cantiknyaa..banget..lihati cantiknyaa fotoi luna maya',\n",
       " ' iiihhhhh gokil kak sule..muka_nya mencolotin ckckckc ngefans beratttttttttttt ckckckckc menyebalkan kakak sule',\n",
       " ' kangen ini @farizaislamiyah bisa di ulang enggak??????',\n",
       " ' naaaaahh @dindamoe2thn',\n",
       " ' blm lihat beritanya nop hehe. brandon yang jd tomoyuki ya? @novita_nsddddidd ddiddiyuki hehe.',\n",
       " ' selalu ngfans sama mimi @krisdayantilemos ??? aku yakin suatu saat kita bisa satu pentas. haaa #ngarepbangetbanget.',\n",
       " ' naura kalo rambutnya kayak begini cantik..jngan di kepang terus dong jadinya bosan @_irishbella__samarstla_nura_nih naura_na naura',\n",
       " ' ciyeeee.... cocok serasi serasi']"
      ]
     },
     "execution_count": 13,
     "metadata": {},
     "output_type": "execute_result"
    }
   ],
   "source": [
    "inf_result"
   ]
  },
  {
   "cell_type": "code",
   "execution_count": 16,
   "metadata": {},
   "outputs": [],
   "source": [
    "# output it to csv\n",
    "df['formal_predict'] = inf_result\n",
    "df.to_csv(\"../data/pred/lexicol_indobart.csv\", index=False)"
   ]
  },
  {
   "cell_type": "code",
   "execution_count": 15,
   "metadata": {},
   "outputs": [
    {
     "data": {
      "text/plain": [
       "BLEU = 48.88 58.3/51.8/46.0/41.1 (BP = 1.000 ratio = 1.427 hyp_len = 5939 ref_len = 4161)"
      ]
     },
     "execution_count": 15,
     "metadata": {},
     "output_type": "execute_result"
    }
   ],
   "source": [
    "# use sacrebleu\n",
    "from sacrebleu import corpus_bleu\n",
    "\n",
    "## detokenize\n",
    "\n",
    "corpus_bleu(inf_result, [df.formal.to_list()], lowercase=True)"
   ]
  },
  {
   "cell_type": "code",
   "execution_count": 17,
   "metadata": {},
   "outputs": [],
   "source": [
    "from evaluate import load\n",
    "bertscore = load(\"bertscore\")\n",
    "predictions = inf_result\n",
    "references = df.formal.to_list()\n",
    "results = bertscore.compute(predictions=predictions, references=references, lang=\"id\")"
   ]
  },
  {
   "cell_type": "code",
   "execution_count": 18,
   "metadata": {},
   "outputs": [],
   "source": [
    "predictions = inf_result\n",
    "references = df.formal.to_list()\n",
    "results = bertscore.compute(predictions=predictions, references=references, lang=\"id\")"
   ]
  },
  {
   "cell_type": "code",
   "execution_count": 19,
   "metadata": {},
   "outputs": [
    {
     "data": {
      "text/plain": [
       "0.6861076844296836"
      ]
     },
     "execution_count": 19,
     "metadata": {},
     "output_type": "execute_result"
    }
   ],
   "source": [
    "import numpy as np\n",
    "\n",
    "np.mean(results['f1'])"
   ]
  },
  {
   "cell_type": "code",
   "execution_count": null,
   "metadata": {},
   "outputs": [],
   "source": []
  }
 ],
 "metadata": {
  "kernelspec": {
   "display_name": "sensei",
   "language": "python",
   "name": "python3"
  },
  "language_info": {
   "codemirror_mode": {
    "name": "ipython",
    "version": 3
   },
   "file_extension": ".py",
   "mimetype": "text/x-python",
   "name": "python",
   "nbconvert_exporter": "python",
   "pygments_lexer": "ipython3",
   "version": "3.11.5"
  }
 },
 "nbformat": 4,
 "nbformat_minor": 2
}
