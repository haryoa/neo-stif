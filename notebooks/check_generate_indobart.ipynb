{
 "cells": [
  {
   "cell_type": "code",
   "execution_count": 2,
   "metadata": {},
   "outputs": [],
   "source": [
    "from transformers import MBartForConditionalGeneration"
   ]
  },
  {
   "cell_type": "code",
   "execution_count": 1,
   "metadata": {},
   "outputs": [
    {
     "name": "stderr",
     "output_type": "stream",
     "text": [
      "/home/haryoaw/mambaforge/envs/sensei/lib/python3.11/site-packages/tqdm/auto.py:21: TqdmWarning: IProgress not found. Please update jupyter and ipywidgets. See https://ipywidgets.readthedocs.io/en/stable/user_install.html\n",
      "  from .autonotebook import tqdm as notebook_tqdm\n"
     ]
    }
   ],
   "source": [
    "from indobenchmark import IndoNLGTokenizer\n",
    "\n",
    "tokenizer = IndoNLGTokenizer.from_pretrained(\"indobenchmark/indobart-v2\")"
   ]
  },
  {
   "cell_type": "code",
   "execution_count": 4,
   "metadata": {},
   "outputs": [
    {
     "name": "stderr",
     "output_type": "stream",
     "text": [
      "Downloading config.json: 100%|██████████| 1.71k/1.71k [00:00<00:00, 7.90MB/s]\n",
      "Downloading pytorch_model.bin: 100%|██████████| 526M/526M [00:18<00:00, 28.1MB/s] \n",
      "Downloading generation_config.json: 100%|██████████| 264/264 [00:00<00:00, 1.07MB/s]\n"
     ]
    }
   ],
   "source": [
    "model = MBartForConditionalGeneration.from_pretrained(\"haryoaw/stif-i-f-scratch\")"
   ]
  },
  {
   "cell_type": "code",
   "execution_count": null,
   "metadata": {},
   "outputs": [],
   "source": [
    "summary_ids = model.generate(inputs['input_ids'], decoder_input_ids = decoder_inputs['inputs_ids']  num_beams=4, max_length=5, early_stopping=True)"
   ]
  },
  {
   "cell_type": "code",
   "execution_count": 5,
   "metadata": {},
   "outputs": [],
   "source": [
    "inp = 'min biaya gw dong, thx'\n",
    "\n",
    "inp_to_model = tokenizer(inp, return_tensors='pt')['input_ids']\n",
    "result = model.generate(\n",
    "    inp_to_model, num_beams=8, max_length=100\n",
    ")"
   ]
  },
  {
   "cell_type": "code",
   "execution_count": 8,
   "metadata": {},
   "outputs": [
    {
     "data": {
      "text/plain": [
       "'</s> admin , biaya saya , terima kasih . terima kasih biaya seperti admin . admin , admin . min . admin . saya biaya saya biaya biaya biaya admin . . . hahaha . . tolong biaya saya . . admin ? terima kasih , biaya seperti ini saya biaya min . min , biayax . . ya min . biaya admin , , biaya terima kasih min . . min min . ya admin . telepon admin , menggunakan menggunakan saya biaya nanti , biaya datang , admin , bukan bukan ? admin . kasih .</s>'"
      ]
     },
     "execution_count": 8,
     "metadata": {},
     "output_type": "execute_result"
    }
   ],
   "source": [
    "tokenizer.decode(result[0])"
   ]
  },
  {
   "cell_type": "code",
   "execution_count": 9,
   "metadata": {},
   "outputs": [],
   "source": [
    "import pandas as pd"
   ]
  },
  {
   "cell_type": "code",
   "execution_count": 12,
   "metadata": {},
   "outputs": [],
   "source": [
    "df = pd.read_csv(\"../data/stif_indo/test_with_pointing.csv\")"
   ]
  },
  {
   "cell_type": "code",
   "execution_count": 13,
   "metadata": {},
   "outputs": [],
   "source": [
    "from tqdm import tqdm"
   ]
  },
  {
   "cell_type": "code",
   "execution_count": 14,
   "metadata": {},
   "outputs": [
    {
     "name": "stderr",
     "output_type": "stream",
     "text": [
      "100%|██████████| 363/363 [26:15<00:00,  4.34s/it]\n"
     ]
    }
   ],
   "source": [
    "inf_result = []\n",
    "for inf in tqdm(df.informal):\n",
    "    inp_to_model = tokenizer(inf, return_tensors='pt')['input_ids']\n",
    "    result = model.generate(\n",
    "        inp_to_model, num_beams=10, max_length=100\n",
    "    )\n",
    "    inf_result.append(tokenizer.decode(result[0], skip_special_tokens=True))"
   ]
  },
  {
   "cell_type": "code",
   "execution_count": 83,
   "metadata": {},
   "outputs": [
    {
     "data": {
      "text/plain": [
       "[' apakah masih ada konfirmasi lagi , admin ? terima kasih .',\n",
       " ' tolong notif yang itu . kemarin juga sampah sekali notif saya isinya gojek . hahaha .',\n",
       " ' halo , untuk keluhan telkomsel , silahkan konfirmasikan rekan kami di xuserx kak . - haski .',\n",
       " ' ini attempted fraud . potensi penipuan atas nama gojek . modus operandi : iming - iming hadiah . ada yang mau nge - flag xnumberx sebagai penipu ?',\n",
       " ' tolong , sudah xnumberx ribu . mengapa ? tolong . mengapa . tolong .',\n",
       " ' pengemudi xuserx dipersilahkan duduk di ruang tamu dan ada air mineral gelas yang disediakan untuk para \" tamu - tamu tersebut .',\n",
       " ' admin , tolong informasikan resi id191432841909e dong . soalnya tujuan kiriman harusnya banjarbaru tapi dipindah ke banjarmasin . terima kasih .',\n",
       " ' yang lebih cepat dari gundala : habisnya kode promo grab .',\n",
       " ' sebelah kiri ? kita di twitter kak , buka instagram . hahaha .',\n",
       " ' laporan pulsa kesedot mulu sialaan . hahaha .',\n",
       " ' yang jadi provider seperti ini jadinya jadinya . jadinya . hahaha .',\n",
       " ' admin , ini dari tadi kenapa tidak bisa untuk cek pulsa yes . untuk menelepon / sms juga tidakbs . selalu gangguan . padahal baru beli pulsa kemarin . padahal . saya baru beli .',\n",
       " ' apa yang lebih cepat dari gundala ? ketika driver dan cs sama - sama mengecek \" oke \" .',\n",
       " ' sudah saya kirim dmnya . mohon dicek . terima kasih .',\n",
       " ' fitur asuransi linkaja di nomor xnumberx .',\n",
       " ' aku suka benar kalau ngomong , vi ! hahaha .',\n",
       " ' admin , apakah lowongan grab driver untuk daerah tangerang sedang tutup ? terima kasih .',\n",
       " ' oke , oke kak . terima kasih atas jawabannya .',\n",
       " ' aduh , malas sudah pakai smartfren , lebih baik ganti saja . rugi .',\n",
       " ' hari ini sudah beli . besok bisa beli lagi admin ? terima kasih .',\n",
       " ' saya mau tanya , apa nomor rekening yan sudah tidak terpakai saldo selama xnumberx tahun masih aktif ?',\n",
       " ' admin , semisal sudah paket unlimited xnumberx bulan , lalu paketin yang internet volume yang unlimited ke stop atau tidak ?',\n",
       " ' admin xuserx minta nomor customer service dong . admin . tolong .',\n",
       " ' ada di nomor xnumberx , ayo kawan ikut : xuserx . done follow sosial media xuserxi semoga beruntung . terima kasih .',\n",
       " ' anjing - anjing xuserx , sebaiknya jangan di jual di pasaran saja anjing , kamu bangsat ! bangsat !',\n",
       " ' admin xuserx , mengapa sinyalku daritadi g terus ? tolong admin , hanya bisa bergantung sm wifi . hahaha . terima kasih . admin .',\n",
       " ' mengapa simpati akhir - akhir ini didaerah saya lambat sekali ?',\n",
       " ' beli tiket tidak admin unova ? kalau beli tiket mohon pengertiannya soal harga .',\n",
       " ' untuk xnumberx gnya didaerah saya ini belum merata kak , daerah kab pemalang jateng ? terima kasih .',\n",
       " ' mengapa paket nomor resi ini xnumberx sudah sampai dimana ? terima kasih .',\n",
       " ' saya minta bukti tfny . sekarang minta email . data pribadi tidak perlu cui . terima kasih .',\n",
       " ' mau sign up lagi juga tidak bisa .',\n",
       " ' nuggetnya sosisnya , atau ingin endorse ? hahaha .',\n",
       " ' hai kak , untuk kendala kamu sudah saya balas di xuserx . silakan dicek . terima kasih . mh .',\n",
       " ' bagaimana dengan grabfood ? di semarang dari pagi order tidak ada yang nyantol loh , semua busy , ganti resto pun sama .',\n",
       " ' halo admin , paket saya belum terkirim dengan resi jp xphonex . terima kasih .',\n",
       " ' sudah selesai tapi mengapa belum dapat vouchernya ? terima kasih .',\n",
       " ' saya mau request insta cash , telepon ke halo bca . apakah ada requirement ? ada requirement kah ?',\n",
       " ' aduh , sampai habis itu duit .',\n",
       " ' dm , kalau tidak kita putus .',\n",
       " ' saya sudah tolong periksa dm saya , admin . terima kasih .',\n",
       " ' saya beli kue di preferred merchant tapi kata drivernya sitoko tidak ada kerja sama dengan grabnya , drivernya minta di cancell . detail di dm . terima kasih .',\n",
       " ' hahaha . padahal sudah banyak aplikasi antar makanan seperti ini . hahaha .',\n",
       " ' halo admin , paket saya nyangkut di dc kemayoran , sampai sekarang belum dikirim . mohon dibantu , terima kasih . terima kasih atas balasannya . terimakasih .',\n",
       " ' nanti saya coba kembali , terima kasih admin . terimakasih sarannya .',\n",
       " ' kak , mengapa paketan aku tidak bisa terus ? sampai kapan ini mau mengerjakan tugas jadi tidak bisa .',\n",
       " ' dm admin ? belum masuk dm saya .',\n",
       " ' admin , jangan main tebak - tebakan . itu bukan kuis tv .',\n",
       " ' admin , kalau paket saya diselesaikan ( status sudah diterima ) padahal belum , bagaimana ? bagaimana solusinya ?',\n",
       " ' dear xuserx , tolong periksa my dm . terima kasih .',\n",
       " ' saldo karena gagal penarikan membutuhkan waktu berapa lama ? saya sudah laporan xnumberx hari kerja sampai sekarang masih proses ditindak lanjuti terus . terus .',\n",
       " ' sudah masuk email pemberitahuannya suruh periksa lagi tetap saldo tidak berubah , tapi yasudahlah tak mengapa . mengapa ?',\n",
       " ' sudah xnumberx x24 jam tidak ada penanganan .',\n",
       " ' admin , saran shopeepay later , bisa juga untuk beli pulsa , paket data , dan listrik hahaha . hahaha .',\n",
       " ' mau memesan makanan seperti jungkook bisa lewat gofood ? terima kasih .',\n",
       " ' ada apa denganmu ? xnumberx g loh itu . itu',\n",
       " ' tolong dm dari saya . mention juga tidak dibalas gimanasi . hahaha .',\n",
       " ' tidak hanya disana yang diperbaiki . kami juga di daerah khususnya sulawesi tengah kab . banggai kepulauan sudah bayarnya sangat mahal tapi lambatnya minta ampun .',\n",
       " ' halo xuserx xuserxi . mengapa setelah di update versi - nya jadi lola dan tidak bisa lihat apa - apa . saya mau liat status pesanan saya . terima kasih .',\n",
       " ' admin , apakah sedang gangguan ? bagaimana ini admin ? tidak bisa dipakai transaksi .',\n",
       " ' kalau aku ketika melihat diskon xpercentx grab langsung cuek . hahaha .',\n",
       " ' tapi saya masih bermasalah lagi . terima kasih .',\n",
       " ' sudah saya dm xnumberx jam yang lalu , belum ada respons kembali .',\n",
       " ' ini dipanggil ganteng , admin , sudah periksa dm , admin . terima kasih .',\n",
       " ' admin tolong ini halodoc , orderan saya tidak terkirim , tapi di status tertulis terkirim . terima kasih .',\n",
       " ' halo sis . herannya rutenya berubah per hari ini . kemarin normal saja , bingung tidak ? terima kasih .',\n",
       " ' kalau kamu put , cek saja di hot offer .',\n",
       " ' admin balas . sudah xnumberx x24 jam cb tidak masuk - masuk . admin . terima kasih .',\n",
       " ' halo xuserx . mengapa jaringan ini di kasomalang kulon , kecamatan kasalang , kabupaten subang , jawa barat ? terima kasih .',\n",
       " ' selamat pagi , mau tanya apa jnt sediain jasa packing kayu ? terima kasih .',\n",
       " \" apakah kamu ? : dia mengajak menikah xnumberx tahun lagi . terus ? besok aku ajak dia ke kua : asdfghjkl * jomblo can ' t relate . hahaha .\",\n",
       " ' halo , saya mau tanya untuk pelaporan penipuan ol shop yang menggunakan bank bni apakah bisa secara online ? terima kasih .',\n",
       " ' tolong admin , follow aku . soalnya mau kirim dm tidak bisa . terima kasih .',\n",
       " ' dm saya saja sudah di dm dari tadi tidak ditangani . bagaimana admin ? terima kasih .',\n",
       " ' iya , gofood - in rich brian saja bisa . tolong xuserx bantu kak abigel yang ldr indonesia - rusia . terima kasih .',\n",
       " ' siapa yang suka chib - chib ? terima kasih xuserx promonya / eat / makan ! hahaha .',\n",
       " ' sama seperti barangku beli di gmarket , dikirim tanggal xnumberx juga statusnya stuck terus sampai sekarang .',\n",
       " ' sama , barusan saya dm dari tadi mba yang cantik . ini signal woi . hahaha .',\n",
       " ' saya punya kuota tapi kenapa pulsanya ketarik ? terima kasih .',\n",
       " ' sudah biasa . xnumberx g rasa , tetapi mohon diperbaiki jaringannya . ngadu ke cs hanya memberi saran yang itu - itu saja . terima kasih .',\n",
       " ' dm saya belum dibuka admin . terima kasih .',\n",
       " ' ini tidakperlu kak ! pulsa saya sudah tersedot xnumberx ribu , harus beli yang unlimited saja , malah yang unlimited satu gb . terima kasih atas pulsa yang kesedotnya ! terima kasih . pulsa yang tersedotnya .',\n",
       " ' saya , saya pengguna setia telkomsel . coba periksa tweet teman saya . terima kasih .',\n",
       " ' tidak ada data / dokumen tambahan yang disubmit oleh pihak xuserx kesistem kami . silahkan ditindaklanjuti oleh pihak pos untuk segera submit data / respon disistem . terima kasih .',\n",
       " ' sama saja ul , pilih di menu pusat bantuan .',\n",
       " ' halo xuserx , saya sudah dm . ini sinyal jelek banget !',\n",
       " ' xnumberx ini kak , tolong diperiksa kak . apakah sudah sampai bandung ? terima kasih .',\n",
       " ' admin , kenapa ini gagal kirim xnumberx ? beberapa minggu lalu juga saya beli paket mobil gagal juga .',\n",
       " ' admin sung woon red velvet tiffany young kyu hyun sini merapat nak . terima kasih .',\n",
       " ' tidak ada , tetapi saya sudah hubungi xnumberx . terima kasih .',\n",
       " ' sampai kapan jaringan kalian hancur seperti ini ? aku menyesal membeli kuota indosat lagi - _ - mending ganti provider kalau seperti ini terus . terus .',\n",
       " ' apakah yang bermasalah handphone saya atau aplikasinya kak ? terimakasih .',\n",
       " ' mau komplain , padahal di paket sudah tertulis barang pecah belah , jangan dibanting , tapi saat sampai barangnya pecah . bagaimana ini ? nomor resi jp xphonex .',\n",
       " ' ini smartfren kenapa setiap malam kecepatan internetnya lambat sekali ? sangat lambat sekali . ini mengapa ? mengapa ? ini benar .',\n",
       " ' admin , ini mengapa tidak bisa mengisi kuota , terus tidak bisa membuat paket ? admin .',\n",
       " ' selamat malam , kenapa go - pay saya berkurang dengan tidak seharusnya nominalnya ? padahal saldo tidak segitu . bagaimana ini ? terima kasih .',\n",
       " ' tidak pernah dibalas , saya chat melalui aplikasi . aplikasi .',\n",
       " ' parah , seharian tidak bisa , pulsa terpotong melulu . bagaimana solusinya ?',\n",
       " ' admin mau tanya , pesanan dishopee sudah ganti status belum ? punya aku juga begitu soalnya , memesan admin dari tadi tidak dibls juga . terima kasih .',\n",
       " ' ini solo xnumberx ribu jadi sekian . hahaha .',\n",
       " ' baru dan tarif baru yang sungguh membuat nyaman .',\n",
       " ' saya beli tiket lokal penataran , tapi e tiket tidak muncul , dan saldo xuserx sudah berkurang . mohon solusinya . mohon solusi . terima kasih .',\n",
       " ' iya kali ikut nyanyi dulu jingle nya siapa tahu buldep masuk campaignnya . hahaha .',\n",
       " ' admin , ini tidak bisa beli paket . ayo xnumberx menit lagi paketan aku entek . kesal .',\n",
       " ' sama miminnya boleh kali hahaha . hahaha .',\n",
       " ' kalau pencet * xnumberx tidak bisa , pakai apps tidak bisa masuk juga !',\n",
       " ' xnumberx tanggal kejadian xdatex jam xtimumberx lokasi gempol , pasuruan .',\n",
       " ' sudah xnumberx hari , kenapa belum ada feedback ? mohon info . terima kasih .',\n",
       " \" selamat ! semoga selain bagi - bagi rejeki ke customer , grab bisa terus meningkatkan kesejahteraan drivernya juga . mulai dari memperlakukan mereka sebagai ' pekerja , bukan ' mitra . terima kasih .\",\n",
       " ' di antara ini , adakah correspondent bank untuk cimb niaga dan sebaiknya yang mana yang saya gunakan ?',\n",
       " ' selalu eror bukan ? mengapa mau cari barang tidak bisa terus ?',\n",
       " ' tolong dibantu follow up form bantuan yang saya buat untuk transaksi xnumberx . terima kasih .',\n",
       " ' halo gojek , kebetulan kami sedang menggalangkan donasi pendidikan beasiswa aktivis . kami ingin bermitra dengan gojek melalui gogive . untuk prosedurnya bagaimana ? terima kasih .',\n",
       " ' admin , mengapa pengiriman resi jp xphonex mengapa sudah xnumberx hari belum sampai status transit ?',\n",
       " ' mengapa nomor saya tiba - tiba terdaftar ? hahaha .',\n",
       " ' ini serius aku uninstall juga aplikasi . aplikasi .',\n",
       " ' coba resto lain juga sama . jadi bagaimana sistemnya ?',\n",
       " ' admin , mungkin dan biasa ada kendala untuk penyelesaiannya . mohon dipastikan follow upnya dan tidak terjadi keterlambatan kembali . terima kasih .',\n",
       " ' asuransi linkaja ada di nomor xnumberx . ayo ramaikan .',\n",
       " ' bagaimana admin ? saya utak atik dari tadi tidak menemukan tombol penilaiannya . hanya ada kasih bintang untuk pengemudi . terima kasih .',\n",
       " ' kenapa memang kalau mengantar orang ke rs itu ada berkah tersendiri sudah sering banget dapat hasilnya . hasilnya . terima kasih .',\n",
       " ' aduh , mengapa indosat bermasalah terus ? mana pulsa suka tersedot tbtb . ingin rasanya ganti provider saja .',\n",
       " ' hanya sehari saja bisa make nya . terima kasih .',\n",
       " ' admin xuserx , mengapa sekarang minim transaksi harus besar begini jadi makin susah dapat cashback ? hahaha .',\n",
       " ' kenapa diem admin tidak balas dm saya ?',\n",
       " ' mengapa tiba - tiba hilang ? barusan lokasi di jombang .',\n",
       " ' : di sini senang di sana senang pencipta : ibu sud .',\n",
       " ' admin , jnt cipayung masih ada tidak ? tadi saya kesitu tapi tutup , padahal di google tulisannya open - __ . terima kasih .',\n",
       " ' saya mau mengaktifkan paket tidak bisa ? mengapa ? terima kasih .',\n",
       " ' halo admin , mohon dicek untuk paket dengan nomor resi dibawah ini . sudah xnumberx hari masih disitu - situ saja . urgent soalnya . terima kasih . thank you . salam .',\n",
       " ' wahai xuserx , mengapa ini tidak bisa tracking pengiriman ?',\n",
       " ' admin , yang paket internet malam hingga pukul xnumberx pagi , itu yang jadi patokan xdate pagi wib atau xdatex pagi waktu lokal user ?',\n",
       " ' mengapa belum masuk belanja di ramayana . katanya ada cash back xnumberx ribu / belanja x ribu ribu . belanja di tokopedia . mengapa ada belanja belanja di shopee . di ramayana katanya , belanja di belanja belanja belanja . belanja tokopedia . . . mengapa tidak masuk ? . mengapa belum ada . belanja . . belanja belanja ? belanja belanja tokopedia belanja di . . tokopedia . ada . . di tokopedia belanja belanja , . . ada transaksi belanja belanja xumberx rb . belanja , belanja . paket xn',\n",
       " ' halo xuserx . sejak kapan transfer ke bank bni kena cash xnumberx / transaksi ? terima kasih .',\n",
       " ' baik penyelesaian kasusnya . cek dm . terima kasih . ditunggu .',\n",
       " ' tolong copot jarum pentul kerudung untuk buka kartu sim didepan cs xuserx . terima kasih . ð<0x9F>¤£ .',\n",
       " ' saya lagi admin , saya aktifin paket ig loop xnumberx gb , tetapi kenapa malah tidak diakumulasi jumlahnya ? pulsa sudah tersedot dua kali .',\n",
       " ' ini teknologi yang tidak diimbangi dengan sdm mumpuni merupakan permasalahan utama di negara berflower .',\n",
       " ' halo xuserx , apakah sedang ada gangguan ? khususnya jaringan xnumberx g lambat sekali tidak bisa digunakan , saya di duri kosambi , cengkareng jakbar . terima kasih .',\n",
       " ' tolong saja ke adminnya xuserx oom . mungkin bisa dibantu . terima kasih .',\n",
       " ' ini yang muncul ketika saya masukkan nomor kontrak .',\n",
       " ' anjing , cm anjing maling dan penipu konsumen .',\n",
       " ' xnumberx ribu mb saja leletnya minta ampun . hallo . halo . terima kasih .',\n",
       " ' kenapa ini lambat sekali dari kemarin ?',\n",
       " ' tolong xuserx antar dia ke rumah datuk pala botak . tolong . terima kasih .',\n",
       " ' admin , mengapa selalu error ? padahal , hanya sekali tapnya . huhuhu .',\n",
       " ' halo mimin , bella atau milea . tolong untuk transaksi xnumberx di input nomor resi terlampir . terima kasih .',\n",
       " ' yang baru memang seperti ini ? kan aku jadi tidak bisa pamer kalau pakai makeup . hahaha .',\n",
       " ' selamat safety riding xuserx bekasi at jati bening . bekasi .',\n",
       " ' selamat siang kak , mohon dicek saya mengirimkan dm . terima kasih . terimakasih .',\n",
       " ' halo admin , buka dm dariku . terima kasih .',\n",
       " ' ada apa gerangan , wahai provider sinyal akherat .',\n",
       " \" nomorx . nu ' est xnumberx . momoland dua kali berturut-turut . a pink xuserumberx , the boys xuserx . dari dua kali ikut xuser . ikutan . ikutan ! ikutan !\",\n",
       " ' untuk pengiriman uang via dbs singapura ke bri indonesia , proses uang masuk berapa hari ? karena semalam suami tranfer , tetapi sampai sekarang uang belum masuk . terima kasih . kak .',\n",
       " ' yang terhormat indosat ini kenapa cek paket isi voucher pakatan tidak bisa . tolong jawab . jangan jawab hanya hai hai hai kak . terus , terus . terus .',\n",
       " ' admin , saya sudah sampai tujuan tapi di aplikasi belum bisa memberikan penilaian . bisa tolong hubungi pengemudi untuk menyelesaikan perjalanan ? details akan saya dm , terima kasih . terima kasih',\n",
       " ' top top - up gopay xuserx lewat mobile banking , apakah bisa ? bisakah ?',\n",
       " ' kalau tidak punya print bagaimana admin ?',\n",
       " ' iya , sekarang cashbacknya pelit cuma sedikit . lebih baik ke aplikasi bukalapak lebih besar .',\n",
       " ' apakah ada paket khusus dengan harga special hari pelanggan , admin ? terima kasih .',\n",
       " ' xuserx sangat lambat xnumberx g nya .',\n",
       " ' tolong , tolong dari kemarin sinyal penuh tapi tidak bisa dipakai untuk apa . sering sekali seperti ini .',\n",
       " ' saya mau menanyakan tentang konser kpop super festival mengapa di gambar ada xuserx tetapi di daftar artis xuserxi tidak ada ? terima kasih .',\n",
       " ' admin , jual cilok yang seperti di tidak ? admin . terima kasih .',\n",
       " ' xnumberx transaksi tersebut kenapa batal ? itu sudah dikirim . kurir sudah pickup .',\n",
       " ' apakah busway dan tol bisa normal digunakan , atau untuk naik commuter agak berbeda ? mohon info , saldo flazz saya kalau dianggap kadaluarsa .',\n",
       " ' ini beda - beda sinyal tiap daerah , tapi saya sementara pakai telkomsel , gada obat kenceng banget . tapi harganya mahal sekali . allah . kasihan juga ya allah .',\n",
       " ' nomor rek ponsel minimal nominal berapa ? terima kasih .',\n",
       " ' terima kasih atas kesediaan bpk / ibu pelanggan menunggu , dengan senang hati kami segera merespon mention kembali . terima kasih . ^ redo .',\n",
       " ' kenapa dari kemarin saya daftar paket yellow tidak bisa didaftarkan ? mohon dibantu . terima kasih .',\n",
       " ' sudah berubah ya aturannya , kalau tidak salah dulu bisa dilakukan melalui atm .',\n",
       " ' halo kak , kita sama . akun saya yang satunya ke lock dan menunggu kodenya tidak sampai - sampai . masa . hahaha .',\n",
       " ' selamat pagi . modem m2y saya ada notifikasi : update firmware baru . apa maksud notifikasi tersebut ?',\n",
       " ' begitu , terima kasih banyak infonya .',\n",
       " ' cara aktifkan paylaternya bagaimana admin ? saya mau pakai di tokopedia . terima kasih .',\n",
       " ' admin grabfood tidak ada promo . tidak ada diskon .',\n",
       " ' admin , apakah saya tidak bisa melakukan transaksi pembayaran tiket kereta api dari m - banking dan mandiri online , sedang error ? terima kasih .',\n",
       " ' tidak ada estimasi untuk xnumberx bts memakan waktu berapa lama , karena tanpa perencanaan semua bisa berantakan .',\n",
       " ' halo xuserx . apakah sinyal xnumberx g nya lagi ada gangguan ? mengapa saya kesuuliittan akkses internet saya di rawamangun jaktim . terima kasih . infonya .',\n",
       " ' ini tarif grab atau banyak - banyakkan promonya biar muraah , tapi promo yang bisa dipakai bukan pajangan di inbox semata hahaha . hahaha .',\n",
       " ' nomor smart xnumberx koordinasi lokasi sawangan depok .',\n",
       " ' kapan ? karena aktifitas saya menjadi terganggu , padahal saya baru saja mengisi paket data . terima kasih .',\n",
       " ' halo kak ? ini kenapa saya dari kemarin - kemarin tidak bisa memasukkan kode promo ? semuanya baik grabfood , bike , car . car .',\n",
       " ' admin tolong periksa dm saya . terima kasih . admin .',\n",
       " ' nomor awb : xnumberx mohon di follow up alamat yang benar adalah saepul hidayat , alamat yang tepat adalah kp coblong talang rtx / xumberx . desa sukakarya . kec . mega mendung . bogor . . jawa barat . nomor telepon .',\n",
       " ' apanya admin ? sudah beberapa hari mati nyala terus . hari ini tidak tahu sudah berapa kali , tidak menghitung dari seringnya .',\n",
       " ' setiap hari xnumberx gb dibuka , hanya berkurang xumberx mb , karena memang tidak jalan , loading saja terus . emosi djiwa berkurang .',\n",
       " ' admin , mengapa tidak bisa beli paket data ?',\n",
       " ' baik kak dewa , silakan periksa dm kembali .',\n",
       " ' admin yang terhormat , mengapa ongkos kirim bukalapak berbeda dengan dilapangan ? bahkan dibandingkan dengan marketplace lain , meski ongkos kirimnya tetap sama tanpa di markup terlebih dahulu .',\n",
       " ' mengapa perasaan saya tidak pernah registrasi ke layanan / fitur tersebut . mengapa bisa tiba - tiba ada sms begitu ?',\n",
       " ' mengapa titiknya cm beda xnumberx meter , beda harga lumayan wqwq xuserx . bagaimana solusinya ?',\n",
       " ' x3 digital marketing social engangement harvard . memanfaatkan yang sedang viral .',\n",
       " ' pakai xuserx di mbd wan . wan .',\n",
       " ' semakin update makin tidak user friendly aplikasi nya .',\n",
       " ' cara transfer dari bca ke bank lain per hari berapa ya melalui klikbca ? terima kasih .',\n",
       " ' hati , tar nyasar lagi ke kampung lain .',\n",
       " ' tidak bisa . gagal terus , ra aura .',\n",
       " ' halo kak , apa cs disini aktif ? ingin sampaikan keluhan tracking paket nyasar . terima kasih .',\n",
       " ' selamat siang , voucher shopee senilai xnumberx ribu apakah ketika melakukan pembelian melebihi nominal tersebut dapat dibayar dengan cash ? mohon infonya . terima kasih . trims .',\n",
       " ' admin , kalau mau apply sponsorship untuk mahasiswa yang mau ikut event ke luar negeri bisa apa tidak ? mohon bimbingannya , terima kasih . terima kasih',\n",
       " ' temenku ini , sedang mabuk malah dijahatin mamang grab .',\n",
       " ' admin , kalau mau transfer pulsa ke telkomsel , bisa tidak hanya xnumberx ribu begitu . admin .',\n",
       " ' ini drama gosend . xnumberx , app error tapi driver disana sudah sampai lokasi jmpt brg , dimana saya harus repeat order masih dimaklumi . sudah dimaklumi . terima kasih .',\n",
       " ' paket mahal \" sinyal busuk setiap jam xnumberx . paket hematnya kapan ? bngke . paket mahal .',\n",
       " ' ini internet jelek . sinyal sering hilang - hilangan . daftar paket saja lama tidak masuk - masuk . bagaimana mau maju woyy indosott balas dm woyy . hahaha .',\n",
       " ' mohon maaf atas kesalahan penyebutan nama ibu novi . untuk email ibu akan kami tindaklanjuti , mohon kesediaanya menunggu . terima kasih . ~ toby .',\n",
       " ' halo admin , mengapa tidak bisa tambahkan rekening bank ? terima kasih .',\n",
       " ' yang mana ? memang rokok itu mengerikan dan membunuh . titik .',\n",
       " ' saya sudah menyetujui karena saya buru - buru dan kurang paham . apakah bisa saya batalkan ?',\n",
       " ' apakah sedang error ? saya sudah top up saldo dari m - banking dan sudah terpotong malah error aplikasi ovonya . hahaha .',\n",
       " ' untuk nasabah prioritas untuk berapa orang ?',\n",
       " ' malam kak xuserx , bantu cek dm kami ! terima kasih . terima kasih !',\n",
       " ' halo kak , mohon dibantu untuk merubah status menjadi terkirim dengan input resi yang tadi saya kirim . karena status disana masih belum terinput resi . terima kasih . trims .',\n",
       " ' iya . aku pakai ovo waktu goride juga tidak bisa . sama . hahaha .',\n",
       " ' gratis ongkos kirim . mengajarkan kepada saya bagaimana caranya malas .',\n",
       " ' dear power , mau pesan go - clean kenapa tidak ada ? terima kasih .',\n",
       " ' admin , kalau hari ini sabtu cabang yang buka dimana yah daerah bandung ? saya mau ganti nomor hp m - banking soalnya . soalnya .',\n",
       " ' kalau mau pindah ke pasca bayar bagaimana ? terima kasih .',\n",
       " ' dari tadi susah tidak dapat driver . kenapa ? nyusahin ya tidak ada respons pula ditanya .',\n",
       " ' admin , jadi saya sudah checkout tapi lupa bayar . apakah voucher free ongkos kirimnya hangus ? terima kasih .',\n",
       " ' apakah lebih cepat dari gundala ? kamu , kamu . kamu',\n",
       " ' saya baru membeli / beli kartu di grapari kemarin . mengapa number already registered ? bisa tolong konfirmasi ? reply asap . terima kasih .',\n",
       " ' tadi pagi dicoba tetap tidak bisa admin . sampai akhirnya ke update sendiri . karena updatenya otomatis . terima kasih .',\n",
       " ' pengambilan apakah bisa di hari yang sama setelah mengajukan laporan ? atau harus menunggu keesokan harinya ?',\n",
       " ' kalau daftar go mobile via app itu bakal ada upload identitas sama konfirmasi via video chat . apakah tidak ?',\n",
       " ' halo , sudah tidak bisa cicilan lagi ? terima kasih .',\n",
       " ' halo xuserx , mohon input resi sicepat xnumberx dari nomor trans xtimumberx , produk dropship ke alamat sesuai aplikasi buka lapak . terimakasih . terima kasih .',\n",
       " ' admin xuserx , untuk memberantas ini bagaimana ? admin . terima kasih . admin .',\n",
       " ' malam , mohon infonya , apakah sedang ada gangguan di aplikasi m - banking bni ? terima kasih .',\n",
       " ' apakah dengan cara itu bisa dftr secara manual ?',\n",
       " ' admin , mohon bantuannya . tolong periksa dm saya . terima kasih .',\n",
       " ' admin , bagaimana cara upload produk unggulan ? menunya dimana . dari list produk , lalu pilih menu apa ?',\n",
       " ' admin , maaf . mengapa aku mau belanja xnumberx juta pakai cc , tidak ada pilihan metode cicilan malah bayar penuh ? terima kasih .',\n",
       " ' baik sekali sii xuserx . aku juga khawatir kalau kamu tidak ada promo .',\n",
       " ' iya banget , banyak yang mention akunnya juga masalah jaringan jelek . padahal butuh sekali untuk membantu tugas . hahaha .',\n",
       " ' tolong dana xuserx , beli pulsa total xnumberx , bayarnya cukup xni . pulsa xumberx langsung aku pakai untuk beli paket data tsel xgumberx gb . terima kasih .',\n",
       " ' mbak bowo ini pacarnya mba ammy ? mengapa posesif sekali ? saya hanya pelanggan biasa .',\n",
       " ' saya sudah coba , pulsa sudah terpotong . saya periksa , mengapa masa aktinya tidak berubah ? terima kasih .',\n",
       " ' apa yang lebih cepat dari gundala ? detak jantung saya saat tupperware hilang disekolah .',\n",
       " ' halo , apakah harga paket unlimited pascabayar indosat & paket new freedom prabayar indosat yang tertera pada website resminya sudah termasuk pajak ? terima kasih .',\n",
       " ' apakah e money mandiri bisa untuk mrt jakarta ?',\n",
       " ' admin , sudah saya unreg sendiri , admin . terima kasih .',\n",
       " ' admin , paketan bhyplastic saya akan lanjut otomatis apabila telah isi pulsa .',\n",
       " \" halo admin , di roti ' o ada promo tidak ? terima kasih .\",\n",
       " ' bensin dijalan , mau ke pom bensin jauh , itu ide saja go send .',\n",
       " \" kenapa muhammad isra ' mi ' raj hanya berkedip , padahal sudah sampai pakai burok ? hahaha .\",\n",
       " ' admin , mengapa tahu saya punya rbt ? tidak pernah say , mengapa tiba - tiba muncul lagu tidak jelas ? take downnya bagaimana ? bagaimana ?',\n",
       " ' nomor link tersebut berada di posisi nomor xnumberx xuserx . pelanggan asuransi .',\n",
       " ' halo xuserx . jika saya ingin mengupgrade paket kartu halo saya , apakah harus datang ke grapari ? ataukah bisa dilakukan melalui online ? terima kasih .',\n",
       " ' apakah chips saya rusak , memang masih bisa di isi saldo ? masih bisa dicek sisa saldo ?',\n",
       " ' mengapa pulsa saya yang dipotong internetnya bukan quota saya ? dua kali lagi , duh . duh .',\n",
       " ' kasihan hamba dengan xuserx . kuitanya mahal sekali tetapi buruk amat sinyalnya ya allah . allah .',\n",
       " ' aduh , somuch xuserx . sering \" seperti ini . kasihan telkomsel . lapyu telkomsel .',\n",
       " ' : seberapa kamu ? : besok aku pergi ke kampus . : terus ? : dari malam saya sudah standby depan rumah dosen . hahaha . : hahaha .',\n",
       " ' terima kasih banyak xuserx promo xnumberx gb rp . xumberx nya , sering - sering ada promo seperti ini lagi .',\n",
       " ' halo . hp saya baru saja dicuri , apakah bisa memblokir akun gojek saya ? terima kasih .',\n",
       " ' admin , ingin minta tolong refresh nomor dong yang belakanganya xnumberx . terima kasih . admin .',\n",
       " ' xnumberx saya belum pernah mendaftar kurir xuserx , tapi mengapa ada ordern mnggunkn si cepat ? bagaimana ini admin ? terima kasih .',\n",
       " ' tidak ada pilihan xnumberx x , sumberx x kredit , sekarang hanya pembayaran penuh . kredit penuh .',\n",
       " ' masih masih tidak bisa ya ? ? masih tidak transfer masih tidak tidak bisa ? ? ? apakah masih masih masih belum transfer ? ? , masih tidak masih tidak ada transfer masih belum ? ? . masih tidak . masih masih apakah masih tidak ? masih masih transfer masih masih , masih belum belum transfer . ? ? mengapa masih tidak , masih masih ? masih belum tidak transfer . masih belum masih tidak belum transfer masih . masih transfer ? , ? masih , , ? ? sudah tidak tidak tidak masih masih ada ? ?',\n",
       " ' admin , saya beli token listrik gagal , lalu setelah memasukkan pin kenapa ? admin . mengapa ?',\n",
       " ' tolong xuserx ini diproses , modus penipuan .',\n",
       " ' saya lelah , saya harus cerita lagi . sudah saya telepon saya imel . seharusnya dari capture saya sudah bisa terbaca . driver tidak memiliki jiwa sosial yang tinggi .',\n",
       " ' halo , mohon maaf atas ketidaknyamananya . kamu bisa message nomor dan pertanyaan terkait melalui twitter xuserx agar dapat dibantu ditindaklanjuti . semoga cukup membantu . terima kasih .',\n",
       " ' admin , tolong bantu tweet saya . terima kasih .',\n",
       " ' bagaimana sekarang mainnya begitu ? pesimis dapat promonya lagi . paling baru pakai saat malam untuk makan malam soalnya . hahaha . terima kasih .',\n",
       " ' admin , cara registrasi nomor untuk modem xl go bagaimana ? admin ? terima kasih .',\n",
       " ' mengapa xuserx sedang gangguan ? mengapa tidak ada sinyalnya ?',\n",
       " ' baik kak maya xnumberx ) internat xl yang sangat lancar internetnya xnix ) buka youtube lancar tanpa hambatan xni . sangat nyaman internet bersama keluarga . selamat malam .',\n",
       " ' kebakaran , adanya hanya bpkb , berkas stnknya yang terbakar pun masih ada .',\n",
       " ' bagaimana cara menghapus akun gojek ? terima kasih . trims .',\n",
       " ' admin , ini mengapa pulsa tiba - tiba hilang ? paket internet masih banyak , namun pulsa terpotong terus . mohon follow upnya ! terima kasih . admin . mohon bantuannya .',\n",
       " ' tolong follow up resi nomor ini : jp xphonex . masa macet terus di bekasi .',\n",
       " ' masalah keamanan siber tidak bisa bedain antara dns resolver dan vpn . kocak . lucu .',\n",
       " ' bagaimana bisa mendapatkan birthday gift ? ingin tahu . ingin .',\n",
       " ' halo , admin xuserx . mantap sekali karyawannya sudah mengikuti sop dengan baik . terima kasih .',\n",
       " ' halo xuserx . mengapa top - up saya tidak masuk - masuk ? boleh tolong dibantu ? terima kasih .',\n",
       " ' mengapa xnumberx minggu ini lambatnya makin parah ?',\n",
       " ' apakah xuserx memang sedang bermasalah ? bahkan menelepon xnumberx saja tidak bisa . terima kasih .',\n",
       " ' hai xuserx , aku ikut ini . terima kasih .',\n",
       " ' di kota malang gari ini melambat .',\n",
       " ' om , mengapa grabfood error , masa iya aku harus makan mantan ? terima kasih .',\n",
       " ' mau bertanya , ini kalau menabung emas di tokopedia nantinya bisa minta barang fisiknya tidak ? terima kasih .',\n",
       " ' admin , koneksi internet indosat disetiap malam akhir - akhir ini jeleknya kelewatan , mohon untuk segera tindaklanjuti permasalahan ini karena sangat merugikan kami sebagai pengguna . terima kasih .',\n",
       " ' tolong cek dm . saya mau pesan grabfood ini urgent sekali . tolong dipercepat prosesnya . semoga cepat prosesnya . terima kasih .',\n",
       " ' admin sedih , maunya tetap dikirim bukunya . hiks . sedih .',\n",
       " ' sudah saya dm tolong dicek . terima kasih .',\n",
       " ' admin , mengapa indosat selalu jelek sinyalnya hari ini ?',\n",
       " ' hati dengan credit card bri . saya sudah lapor untuk penutupan credit card sebelum annual fee jatuh tempo tapi tetap harus bayar .',\n",
       " ' halo xuserx . bagaimana transaksi saya dengan resi sicepat tidak update - update ?',\n",
       " ' tidak mau bagi kode promo apa .',\n",
       " ' ini \" driver has arrived \" padahal masih jauh banget . tolong diperbaiki sistem pemberitahuannya . . terima kasih .',\n",
       " ' admin , di akun im3 aku ada tagihan atas nomor lain . maksudnya apa ini ? saya tidak merasa punya nomor itu . terima kasih .',\n",
       " ' admin , boleh tahu detail dan harha paket yang xnumberx bulan ? terima kasih .',\n",
       " ' tolong pulsa saya ! kesedot mulu arkhh . hahaha . .',\n",
       " ' saya barusan ditrf dengan kakak ke rek bca saya tapi mengapa tidak masuk admin ? mohon solusinya . mohon solusi . terima kasih .',\n",
       " ' tidak ada penyesuaian harga dari warungnya . karena warungnya tidak mau dipotong komisi grabfood .',\n",
       " ' saya dapat tahu kalau beli yang large .',\n",
       " ' saya sekali isi paket , ada promo rp xnumberx hahaha . terimakasih . terima kasih .',\n",
       " ' nomor xphonex admin , tolong , paket saya tidak sampai - sampai , padahal mengirim sesama jakarta bisa xnumberx harian . terima kasih .',\n",
       " ' mengapa masih mengeluh paket , modal ? hahaha .',\n",
       " ' baik , tapi kalau transfer ke akun ovo tidak ada batas maksimalnya kan ? hahaha .',\n",
       " ' admin mau tany kalau product tidak ada ikon tmbah keranjang atau beli itu kenapa ? padahal tidak ada ket stock kosong . terimakasih .',\n",
       " ' : seberapa kamu ? : aku tidak suka buang makanan . terus ? : jadi kalau makan kuaci aku makan sama kulitnya . kulitnya .',\n",
       " ' sudah saya dm , baca saja chat historynya . aduh , sabar sekali saya pakai provider xl . semakin hari bukannya makin baik malah semakin parah erornya .',\n",
       " ' halo xuserx , lagi error . mengapa g bisa - bisa , dan aku harus ambil hotspot dari hp xnumberx yang pakai xuserxi lancar jaya . terima kasih . trimakasi .',\n",
       " \" promo yang xnumberx gb , harga ' y tidak turun - turun , terpaksa beli yang xumberx . ribu xunumberx ribu , ok admin . mantap . terima kasih . admin .\",\n",
       " ' mengapa sampai admin , aku tahu mbaknya mabuk . hahaha .',\n",
       " ' saya melakukan pembukaan tabungan lewat bca mobile namun saat tahap untuk video call dengan customer service selalu tidak bisa .',\n",
       " ' mengapa kuota malam saya tidak bisa dipakai ? mengapa ?',\n",
       " ' paket paket best deal combo xnumberx gb sudah tidak ada lagi ? ? ? paket paket paket internet best paket paket combo paket paket . paket paket kuota paket combo combo xumberx . gb . . paket combo . paket . kuota paket paket , paket paket paketnya . paket internet paket paket unlimited combo . . . combo paket . . gb sudah sudah tidak tersedia lagi . ? ? . . ? , ? ? sudah sudah sudah ada lagi paket paket ? . ? . paket ? ? , paket',\n",
       " ' kenapa saat mau login seperti ini terus ?',\n",
       " ' kualitas bagus tapi pingnya kenapa jadi xnumberx digit sekarang ? apakah ada masalah transport ? bagaimana solusinya ?',\n",
       " ' pulsa hilang terus , lalu jaringan cenat cenut seperti bisul mau pecah . bagaimana dengan biaya produksi ? saya bayar , tapi setiap hari dikerjain . hahaha .',\n",
       " ' sama mbak ariinn , semoga dapat ganti yang lebih baik . hahaha .',\n",
       " ' malam , saya mau tanya mobile banking saya tiba - tiba ke blockir , kenapa ? ?',\n",
       " ' mengapa untuk grabbike tidak ada promo lagi sekarang ? aku sedih ingin berpaling saja . hahaha .',\n",
       " ' alhamdulillah ya allah dapat saldo ovo sejuta dari xuserx yang sedang tantangannya kemarin . terima kasih grab ! terima kasih . grab !',\n",
       " ' speednya saja down , tidak stabil sekali . padahal nyambung xnumberx g + .',\n",
       " ' ini urutan caranya dari nomor xnumberx langsung loncat ke nomor xumberx admin . admin . terimakasih .',\n",
       " ' iya , tolong fu nya . saya sudah bayar yes . terima kasih .',\n",
       " ' admin , setiap hari saja ada masalahnya . nelpon call center juga tidak ada solusi .',\n",
       " ' admin , karena tidak mungkin saya menyampaikan keluhan via tweet . terdapat informasi penting soalnya .',\n",
       " ' aku demi kamu dan demi yang kamu kode itu aku pantengin terus tapi jangan php , ak tidak suka . aku suka . kamu .',\n",
       " ' tolong , aku belum dapat ini .',\n",
       " ' admin sampai aku nyalain notifnya , pokoknya terbaik untuk kamu . terima kasih .',\n",
       " ' aku pikir aku saja yang merasakan',\n",
       " ' admin , apakah acc bca sedang gangguan admin ? terima kasih .',\n",
       " ' admin , untuk customer sangat ramah , tapi saya mau tanya , potongan kuota xnumberx mb itu untuk donasi apa ? terima kasih .',\n",
       " ' admin , ini bagaimana ? saya setiap transfer ke rekening ovo tapi tidak pernah masuk ke grabnya ? terima kasih .',\n",
       " ' sudah lebih baik mb sekarang . sudah banyak driver .',\n",
       " ' tidak berani , takut drivernya kena masalah .',\n",
       " ' halo kak odi , apabila kamu memiliki pertanyaan mengenai pemesanan di lazada , bisa langsung ke akun xuserx agar nanti dapat dibantu lebih lanjut . terima kasih .',\n",
       " ' saya mau tanya , mengapa masa aktif best deal internet masa aktif tidak tepat ? mohon penjelasannya . terima kasih .',\n",
       " ' tolong smartfreen sinyalnya baguskan sedikit . kadang bisa xnumberx atau dua sinyal . bahkan sampai xtimes . hahaha .',\n",
       " ' tidak bisa menjawab pertanyaan dengan komplain tolol . orang idiot kenapa bisa dipakai dengan ini provider bangsat xl .',\n",
       " ' admin , mengapa sbl mayoo nanti aku mau repprt di help center saja , disini juga dipeduliin ? hahaha .',\n",
       " ' admin sungwoon red velvet tiffany young kyuhyun . kyuhyun .',\n",
       " ' admin , mengapa anda set default payment paylater ? bayar xnumberx kena charge paylaternya dua kali lipat . ribu . hahaha . . rb .',\n",
       " ' tolong , tolong . bagaimana orang mau minta tolong keluhan tentang indosat kalau akunnya kalian sendiri tidak open dm ? terima kasih .',\n",
       " ' xnumberx menit macet seperti ini terus , padahal koneksi internet saya normal . tolong dibantu . tolong direspons . terima kasih .',\n",
       " ' mohon untuk informasinya , sudah dikirimkan melalui email oleh meyda wulansari . terima kasih untuk informasinya . terimakasih .',\n",
       " ' admin , kenapa internet saya lambat ? padahal saya beli unlimited internet , unlimited internetnya , bisa lambat begitu ? mengapa ?',\n",
       " ' ini kebo sirih sinyal bolak balik e terus - menerus berhari - hari . lagi tidak stabil apa bagaimana ? bagaimana ? ?',\n",
       " ' admin , tolong checkmal . bisa diantar kurir kapan sudah ditunggu ? terima kasih .',\n",
       " ' kak agnes , kalau mau komplain twitternya jangan di lock kak hahaha . xuserx tidak bisa baca tweetnya kalau private . hahaha .',\n",
       " ' nomor saya mengapa untuk xnumberx g suka naik turun ? terima kasih .',\n",
       " ' admin , tolong di bantu cek resi xnumberx , sudah x hari tidak ada pergerakan . terima kasih . admin .',\n",
       " ' halo admin gojek . tadi sore istri saya mengalami perlakuan kasar secara lisan pada saat naik gocar . mohon ditindaklanjuti . berikut identitas pengemudi . terima kasih .',\n",
       " ' malam admin . saya masang paket malam dan paket malamnya aktif saat saya menghidup kan data mengapa pulsa saya hilang ? terima kasih .',\n",
       " ' kenapa cari driver akhir - akhir ini susah sudah hampir jam order gofood tidak dapat driver . tolong , aku , bentar lagi dead .',\n",
       " ' ini jadi masalah layanan pengaduan shopee . ditanya berkali - kali lewat email perihal kiriman fiktif ini malah tidak direspons sama sekali .',\n",
       " ' sudah kak . sudah belanja xnumberx bulan lalu toko saya sudh power merchant .',\n",
       " ' yang paling baik dihilangkan kurir silambatnya .',\n",
       " ' kak , tolong baca dm , urgent . terimakasih .',\n",
       " ' grabkitchen bandung , mengapa yang buka hanya satu ? yang ingin dipesen tutup semua . padahal tadi malam masih buka . padahal , masih buka juga . hahaha .',\n",
       " ' mengapa gojek tidak ada gohug ? cause i really really need it . hahaha .',\n",
       " ' saya malah tambah lambat jaringan saya .',\n",
       " ' halo sat xuserx . lagi ada promo apani . mau paket yellow kenapa tidak bisa ? mengapa tidak bisa .',\n",
       " ' admin , tolong periksa dm saya terkait keluhan paket saya . terima kasih .',\n",
       " ' halo admin xuserx . paket eg713312672kr sudh sampai mana ? tracking tidak ada progress . help . terima kasih .',\n",
       " ' halo xuserx , mengapa daftar transfer ke bank btn selalu invalid ? mengapa ya ? terima kasih .']"
      ]
     },
     "execution_count": 83,
     "metadata": {},
     "output_type": "execute_result"
    }
   ],
   "source": [
    "inf_result"
   ]
  },
  {
   "cell_type": "code",
   "execution_count": 20,
   "metadata": {},
   "outputs": [
    {
     "data": {
      "text/plain": [
       "BLEU = 4.50 12.6/6.5/3.3/1.5 (BP = 1.000 ratio = 5.776 hyp_len = 34074 ref_len = 5899)"
      ]
     },
     "execution_count": 20,
     "metadata": {},
     "output_type": "execute_result"
    }
   ],
   "source": [
    "# use sacrebleu\n",
    "from sacrebleu import corpus_bleu\n",
    "\n",
    "## detokenize\n",
    "\n",
    "corpus_bleu(inf_result, [df.formal.to_list()], lowercase=True)"
   ]
  },
  {
   "cell_type": "code",
   "execution_count": 17,
   "metadata": {},
   "outputs": [],
   "source": [
    "from evaluate import load\n",
    "bertscore = load(\"bertscore\")\n",
    "predictions = inf_result\n",
    "references = df.formal.to_list()\n",
    "results = bertscore.compute(predictions=predictions, references=references, lang=\"id\")"
   ]
  },
  {
   "cell_type": "code",
   "execution_count": 18,
   "metadata": {},
   "outputs": [],
   "source": [
    "predictions = inf_result\n",
    "references = df.formal.to_list()\n",
    "results = bertscore.compute(predictions=predictions, references=references, lang=\"id\")"
   ]
  },
  {
   "cell_type": "code",
   "execution_count": 19,
   "metadata": {},
   "outputs": [
    {
     "data": {
      "text/plain": [
       "0.6861076844296836"
      ]
     },
     "execution_count": 19,
     "metadata": {},
     "output_type": "execute_result"
    }
   ],
   "source": [
    "import numpy as np\n",
    "\n",
    "np.mean(results['f1'])"
   ]
  },
  {
   "cell_type": "code",
   "execution_count": null,
   "metadata": {},
   "outputs": [],
   "source": []
  }
 ],
 "metadata": {
  "kernelspec": {
   "display_name": "sensei",
   "language": "python",
   "name": "python3"
  },
  "language_info": {
   "codemirror_mode": {
    "name": "ipython",
    "version": 3
   },
   "file_extension": ".py",
   "mimetype": "text/x-python",
   "name": "python",
   "nbconvert_exporter": "python",
   "pygments_lexer": "ipython3",
   "version": "3.11.5"
  }
 },
 "nbformat": 4,
 "nbformat_minor": 2
}
