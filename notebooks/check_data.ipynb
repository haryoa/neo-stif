{
 "cells": [
  {
   "cell_type": "code",
   "execution_count": 22,
   "metadata": {},
   "outputs": [
    {
     "name": "stdout",
     "output_type": "stream",
     "text": [
      "/home/haryoaw/documents/courses/nlp802/project/texteditalay\n"
     ]
    }
   ],
   "source": [
    "%cd .."
   ]
  },
  {
   "cell_type": "code",
   "execution_count": 24,
   "metadata": {},
   "outputs": [],
   "source": [
    "import pandas as pd\n",
    "from neo_stif.components.train_data_preparation import prepare_data_tagging_and_pointer\n",
    "import datasets\n",
    "from torch.utils.data import DataLoader\n",
    "from neo_stif.components.collator import FelixCollator\n",
    "from neo_stif.components.utils import create_label_map\n",
    "from transformers import BertForMaskedLM"
   ]
  },
  {
   "cell_type": "code",
   "execution_count": 4,
   "metadata": {},
   "outputs": [],
   "source": [
    "df = pd.read_csv(\"../data/stif_indo/train_with_pointing.csv\")"
   ]
  },
  {
   "cell_type": "code",
   "execution_count": 6,
   "metadata": {},
   "outputs": [
    {
     "name": "stderr",
     "output_type": "stream",
     "text": [
      "/home/haryoaw/mambaforge/envs/sensei/lib/python3.11/site-packages/tqdm/auto.py:21: TqdmWarning: IProgress not found. Please update jupyter and ipywidgets. See https://ipywidgets.readthedocs.io/en/stable/user_install.html\n",
      "  from .autonotebook import tqdm as notebook_tqdm\n"
     ]
    }
   ],
   "source": [
    "from transformers import AutoTokenizer\n",
    "\n",
    "tokenizer = AutoTokenizer.from_pretrained(\"indolem/indobert-base-uncased\")\n"
   ]
  },
  {
   "cell_type": "code",
   "execution_count": 20,
   "metadata": {},
   "outputs": [
    {
     "name": "stdout",
     "output_type": "stream",
     "text": [
      "28\n",
      "28\n"
     ]
    }
   ],
   "source": [
    "idx = 433\n",
    "tokenized_inp = tokenizer.tokenize(df.informal[idx], add_special_tokens=True)\n",
    "print(len(tokenized_inp))\n",
    "print(len(eval(df.label[idx])))"
   ]
  },
  {
   "cell_type": "code",
   "execution_count": 27,
   "metadata": {},
   "outputs": [
    {
     "name": "stderr",
     "output_type": "stream",
     "text": [
      "Map: 100%|██████████| 1922/1922 [00:00<00:00, 7300.94 examples/s]\n",
      "Map: 100%|██████████| 1922/1922 [00:01<00:00, 1584.64 examples/s]\n"
     ]
    }
   ],
   "source": [
    "label_dict = create_label_map(30, True)\n",
    "df_train = pd.read_csv(\"data/stif_indo/train_with_pointing.csv\")\n",
    "data_train = datasets.Dataset.from_pandas(df_train)\n",
    "data_train, label_dict = prepare_data_tagging_and_pointer(data_train, tokenizer, label_dict)"
   ]
  },
  {
   "cell_type": "code",
   "execution_count": 30,
   "metadata": {},
   "outputs": [
    {
     "data": {
      "text/plain": [
       "Dataset({\n",
       "    features: ['informal', 'formal', 'point_indexes', 'label', 'len_label', 'informal_input_ids', 'informal_token_type_ids', 'informal_attention_mask', 'formal_input_ids', 'formal_token_type_ids', 'formal_attention_mask', 'tag_labels', 'point_labels'],\n",
       "    num_rows: 1922\n",
       "})"
      ]
     },
     "execution_count": 30,
     "metadata": {},
     "output_type": "execute_result"
    }
   ],
   "source": [
    "data_train"
   ]
  },
  {
   "cell_type": "code",
   "execution_count": 34,
   "metadata": {},
   "outputs": [
    {
     "name": "stdout",
     "output_type": "stream",
     "text": [
      "28\n",
      "28\n",
      "[('[CLS]', 'KEEP'), ('betul', 'KEEP'), (',', 'KEEP'), ('terkait', 'KEEP'), ('cash', 'KEEP'), ('##back', 'KEEP'), ('.', 'KEEP'), ('terlihat', 'KEEP'), ('sepele', 'KEEP'), (',', 'KEEP'), ('namun', 'KEEP'), ('cara', 'KEEP'), ('xu', 'KEEP'), ('##ser', 'KEEP'), ('##x', 'KEEP|4'), ('mengh', 'DELETE'), ('##and', 'DELETE'), ('##len', 'DELETE'), ('##ya', 'DELETE'), ('yg', 'DELETE'), ('bikin', 'DELETE'), ('sakit', 'KEEP'), ('hati', 'KEEP|1'), ('&', 'DELETE'), ('sangat', 'KEEP'), ('mengecewakan', 'KEEP'), ('.', 'KEEP'), ('[SEP]', 'KEEP')]\n"
     ]
    }
   ],
   "source": [
    "idx = 433\n",
    "label_dict_reverse = {v: k for k, v in label_dict.items()}\n",
    "tokenized_inp = tokenizer.tokenize(data_train['informal'][idx], add_special_tokens=True)\n",
    "translated_label = [label_dict_reverse[label] for label in data_train['tag_labels'][idx]]\n",
    "print(len(tokenized_inp))\n",
    "print(len((data_train['tag_labels'][idx])))\n",
    "print(list(zip(tokenized_inp, translated_label)))"
   ]
  },
  {
   "cell_type": "code",
   "execution_count": 35,
   "metadata": {},
   "outputs": [],
   "source": [
    "loader = DataLoader(\n",
    "    data_train,\n",
    "    batch_size=2,\n",
    "    shuffle=True,\n",
    "    collate_fn=FelixCollator(tokenizer, pad_label_as_input=len(label_dict)),\n",
    ")"
   ]
  },
  {
   "cell_type": "code",
   "execution_count": 36,
   "metadata": {},
   "outputs": [
    {
     "name": "stderr",
     "output_type": "stream",
     "text": [
      "You're using a BertTokenizerFast tokenizer. Please note that with a fast tokenizer, using the `__call__` method is faster than using a method to encode the text followed by a call to the `pad` method to get a padded encoding.\n"
     ]
    }
   ],
   "source": [
    "after_load = next(iter(loader))"
   ]
  },
  {
   "cell_type": "code",
   "execution_count": 41,
   "metadata": {},
   "outputs": [
    {
     "data": {
      "text/plain": [
       "'[CLS] ini sudah terkirim tp pesanan belum selesai d sistem karna saya menggunakan kurir berbeda [SEP] [PAD] [PAD] [PAD] [PAD] [PAD] [PAD] [PAD] [PAD] [PAD] [PAD] [PAD] [PAD] [PAD] [PAD] [PAD] [PAD] [PAD] [PAD] [PAD] [PAD] [PAD] [PAD] [PAD] [PAD] [PAD] [PAD] [PAD] [PAD] [PAD] [PAD] [PAD] [PAD] [PAD] [PAD] [PAD] [PAD]'"
      ]
     },
     "execution_count": 41,
     "metadata": {},
     "output_type": "execute_result"
    }
   ],
   "source": [
    "after_load['input_ids'][0])"
   ]
  },
  {
   "cell_type": "code",
   "execution_count": null,
   "metadata": {},
   "outputs": [],
   "source": []
  }
 ],
 "metadata": {
  "kernelspec": {
   "display_name": "sensei",
   "language": "python",
   "name": "python3"
  },
  "language_info": {
   "codemirror_mode": {
    "name": "ipython",
    "version": 3
   },
   "file_extension": ".py",
   "mimetype": "text/x-python",
   "name": "python",
   "nbconvert_exporter": "python",
   "pygments_lexer": "ipython3",
   "version": "3.11.5"
  }
 },
 "nbformat": 4,
 "nbformat_minor": 2
}
