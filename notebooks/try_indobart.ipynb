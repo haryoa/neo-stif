{
 "cells": [
  {
   "cell_type": "code",
   "execution_count": 2,
   "metadata": {},
   "outputs": [
    {
     "name": "stdout",
     "output_type": "stream",
     "text": [
      "/home/haryoaw/documents/courses/nlp802/project/texteditalay\n"
     ]
    }
   ],
   "source": [
    "%cd .."
   ]
  },
  {
   "cell_type": "code",
   "execution_count": 1,
   "metadata": {},
   "outputs": [
    {
     "name": "stderr",
     "output_type": "stream",
     "text": [
      "/home/haryoaw/mambaforge/envs/sensei/lib/python3.11/site-packages/tqdm/auto.py:21: TqdmWarning: IProgress not found. Please update jupyter and ipywidgets. See https://ipywidgets.readthedocs.io/en/stable/user_install.html\n",
      "  from .autonotebook import tqdm as notebook_tqdm\n"
     ]
    }
   ],
   "source": [
    "from transformers import MBartForConditionalGeneration"
   ]
  },
  {
   "cell_type": "code",
   "execution_count": 3,
   "metadata": {},
   "outputs": [],
   "source": [
    "from indobenchmark import IndoNLGTokenizer\n",
    "\n",
    "tokenizer = IndoNLGTokenizer.from_pretrained(\"indobenchmark/indobart-v2\")\n",
    "model = MBartForConditionalGeneration.from_pretrained(\"indobenchmark/indobart-v2\")"
   ]
  },
  {
   "cell_type": "code",
   "execution_count": 4,
   "metadata": {},
   "outputs": [],
   "source": [
    "import pandas as pd\n",
    "import datasets"
   ]
  },
  {
   "cell_type": "code",
   "execution_count": 24,
   "metadata": {},
   "outputs": [],
   "source": [
    "df_train = pd.read_csv(\"data/stif_indo/train_with_pointing.csv\")\n",
    "df_train_used = df_train[['informal', 'formal']]\n",
    "\n",
    "df_val = pd.read_csv(\"data/stif_indo/dev_with_pointing.csv\")\n",
    "df_val_used = df_val[['informal', 'formal']]"
   ]
  },
  {
   "cell_type": "code",
   "execution_count": 25,
   "metadata": {},
   "outputs": [],
   "source": [
    "df_train_data = datasets.Dataset.from_pandas(df_train_used)\n",
    "df_val_data = datasets.Dataset.from_pandas(df_val_used)"
   ]
  },
  {
   "cell_type": "code",
   "execution_count": 26,
   "metadata": {},
   "outputs": [],
   "source": [
    "def tokenize_function(examples, src='informal', tgt='formal'):\n",
    "    src = examples[src]\n",
    "    tgt = examples[tgt]\n",
    "\n",
    "    src_tokenized = tokenizer(src, truncation=True)\n",
    "    tgt_tokenized = tokenizer(tgt, truncation=True)['input_ids']\n",
    "    returned_dict = {\n",
    "        'input_ids': src_tokenized['input_ids'],\n",
    "        'attention_mask': src_tokenized['attention_mask'],\n",
    "        'labels': tgt_tokenized\n",
    "    }\n",
    "    return returned_dict"
   ]
  },
  {
   "cell_type": "code",
   "execution_count": 27,
   "metadata": {},
   "outputs": [
    {
     "name": "stderr",
     "output_type": "stream",
     "text": [
      "Map:   0%|          | 0/1922 [00:00<?, ? examples/s]"
     ]
    },
    {
     "name": "stderr",
     "output_type": "stream",
     "text": [
      "Map: 100%|██████████| 1922/1922 [00:01<00:00, 1691.63 examples/s]\n",
      "Map: 100%|██████████| 214/214 [00:00<00:00, 2239.73 examples/s]\n"
     ]
    }
   ],
   "source": [
    "train_tokenized = df_train_data.map(tokenize_function, batched=True, batch_size=32, remove_columns=['informal', 'formal'])\n",
    "val_tokenized = df_val_data.map(tokenize_function, batched=True, batch_size=32, remove_columns=['informal', 'formal'])"
   ]
  },
  {
   "cell_type": "code",
   "execution_count": 28,
   "metadata": {},
   "outputs": [
    {
     "data": {
      "text/plain": [
       "Dataset({\n",
       "    features: ['input_ids', 'attention_mask', 'labels'],\n",
       "    num_rows: 1922\n",
       "})"
      ]
     },
     "execution_count": 28,
     "metadata": {},
     "output_type": "execute_result"
    }
   ],
   "source": [
    "train_tokenized"
   ]
  },
  {
   "cell_type": "code",
   "execution_count": 10,
   "metadata": {},
   "outputs": [],
   "source": [
    "from transformers import DataCollatorForSeq2Seq"
   ]
  },
  {
   "cell_type": "code",
   "execution_count": 11,
   "metadata": {},
   "outputs": [],
   "source": [
    "collator = DataCollatorForSeq2Seq(tokenizer, model=model,)"
   ]
  },
  {
   "cell_type": "code",
   "execution_count": 12,
   "metadata": {},
   "outputs": [],
   "source": [
    "from torch.utils.data import DataLoader\n",
    "\n",
    "train_dataloader = DataLoader(train_tokenized, batch_size=32, collate_fn=collator)"
   ]
  },
  {
   "cell_type": "code",
   "execution_count": 16,
   "metadata": {},
   "outputs": [],
   "source": [
    "from transformers import Trainer, TrainingArguments, EarlyStoppingCallback"
   ]
  },
  {
   "cell_type": "code",
   "execution_count": 31,
   "metadata": {},
   "outputs": [],
   "source": [
    "early_stopping_cb = EarlyStoppingCallback(early_stopping_patience=5)"
   ]
  },
  {
   "cell_type": "code",
   "execution_count": 32,
   "metadata": {},
   "outputs": [],
   "source": [
    "training_args = TrainingArguments(\n",
    "    learning_rate=1e-5,\n",
    "    evaluation_strategy = \"steps\",\n",
    "    eval_steps = 100,\n",
    "    save_steps = 100,\n",
    "    metric_for_best_model = \"eval_loss\",\n",
    "    save_strategy = \"steps\",\n",
    "    num_train_epochs=50,\n",
    "    max_steps=1,\n",
    "    output_dir='outputs/stif-i-f/indobart-v2/',\n",
    "    per_device_train_batch_size=8,\n",
    "    save_total_limit=1,\n",
    "    weight_decay = 0.01,\n",
    "    load_best_model_at_end = True,\n",
    ")"
   ]
  },
  {
   "cell_type": "code",
   "execution_count": 34,
   "metadata": {},
   "outputs": [],
   "source": [
    "trainer= Trainer(\n",
    "    model = model,\n",
    "    args = training_args,\n",
    "    train_dataset = train_tokenized,\n",
    "    eval_dataset = val_tokenized,\n",
    "    tokenizer = tokenizer,\n",
    "    data_collator = collator,\n",
    "    callbacks = [early_stopping_cb]\n",
    ")"
   ]
  },
  {
   "cell_type": "code",
   "execution_count": null,
   "metadata": {},
   "outputs": [],
   "source": [
    "trainer.train()"
   ]
  }
 ],
 "metadata": {
  "kernelspec": {
   "display_name": "sensei",
   "language": "python",
   "name": "python3"
  },
  "language_info": {
   "codemirror_mode": {
    "name": "ipython",
    "version": 3
   },
   "file_extension": ".py",
   "mimetype": "text/x-python",
   "name": "python",
   "nbconvert_exporter": "python",
   "pygments_lexer": "ipython3",
   "version": "3.11.5"
  }
 },
 "nbformat": 4,
 "nbformat_minor": 2
}
